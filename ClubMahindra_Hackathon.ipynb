{
  "cells": [
    {
      "cell_type": "markdown",
      "metadata": {},
      "source": [
        "The goal of this Hackathon is given the details of customers vacationing at particular clubs and resorts to predict the amount spent by the customers at the facilities"
      ]
    },
    {
      "cell_type": "code",
      "execution_count": null,
      "metadata": {
        "id": "id7ALxeGJQHL",
        "vscode": {
          "languageId": "python"
        }
      },
      "outputs": [],
      "source": [
        "from sklearn import datasets\n",
        "from sklearn.model_selection import train_test_split\n",
        "import xgboost\n",
        "from sklearn.metrics import mean_squared_error\n",
        "import pandas as pd\n",
        "import numpy as np\n",
        "import seaborn as sns\n",
        "import matplotlib.pyplot as plt"
      ]
    },
    {
      "cell_type": "code",
      "execution_count": null,
      "metadata": {
        "id": "IQnDFCE5KpmI",
        "vscode": {
          "languageId": "python"
        }
      },
      "outputs": [],
      "source": [
        "df_train = pd.read_csv('/content/drive/My Drive/AV_Mahindra_Club/train.csv') "
      ]
    },
    {
      "cell_type": "code",
      "execution_count": null,
      "metadata": {
        "colab": {
          "base_uri": "https://localhost:8080/",
          "height": 224
        },
        "id": "XcHUrI40MOLv",
        "outputId": "cbeb8005-6c20-458e-8f41-9961fce3086a",
        "vscode": {
          "languageId": "python"
        }
      },
      "outputs": [
        {
          "data": {
            "text/html": [
              "<div>\n",
              "<style scoped>\n",
              "    .dataframe tbody tr th:only-of-type {\n",
              "        vertical-align: middle;\n",
              "    }\n",
              "\n",
              "    .dataframe tbody tr th {\n",
              "        vertical-align: top;\n",
              "    }\n",
              "\n",
              "    .dataframe thead th {\n",
              "        text-align: right;\n",
              "    }\n",
              "</style>\n",
              "<table border=\"1\" class=\"dataframe\">\n",
              "  <thead>\n",
              "    <tr style=\"text-align: right;\">\n",
              "      <th></th>\n",
              "      <th>reservation_id</th>\n",
              "      <th>booking_date</th>\n",
              "      <th>checkin_date</th>\n",
              "      <th>checkout_date</th>\n",
              "      <th>channel_code</th>\n",
              "      <th>main_product_code</th>\n",
              "      <th>numberofadults</th>\n",
              "      <th>numberofchildren</th>\n",
              "      <th>persontravellingid</th>\n",
              "      <th>resort_region_code</th>\n",
              "      <th>resort_type_code</th>\n",
              "      <th>room_type_booked_code</th>\n",
              "      <th>roomnights</th>\n",
              "      <th>season_holidayed_code</th>\n",
              "      <th>state_code_residence</th>\n",
              "      <th>state_code_resort</th>\n",
              "      <th>total_pax</th>\n",
              "      <th>member_age_buckets</th>\n",
              "      <th>booking_type_code</th>\n",
              "      <th>memberid</th>\n",
              "      <th>cluster_code</th>\n",
              "      <th>reservationstatusid_code</th>\n",
              "      <th>resort_id</th>\n",
              "      <th>amount_spent_per_room_night_scaled</th>\n",
              "    </tr>\n",
              "  </thead>\n",
              "  <tbody>\n",
              "    <tr>\n",
              "      <th>0</th>\n",
              "      <td>07659f3758d8aee27f5a7e2887adeacb67021cb95ada1b...</td>\n",
              "      <td>05/04/18</td>\n",
              "      <td>05/04/18</td>\n",
              "      <td>06/04/18</td>\n",
              "      <td>3</td>\n",
              "      <td>1</td>\n",
              "      <td>2</td>\n",
              "      <td>0</td>\n",
              "      <td>46</td>\n",
              "      <td>3</td>\n",
              "      <td>3</td>\n",
              "      <td>3</td>\n",
              "      <td>1</td>\n",
              "      <td>2.0</td>\n",
              "      <td>7.0</td>\n",
              "      <td>3</td>\n",
              "      <td>3</td>\n",
              "      <td>F</td>\n",
              "      <td>1</td>\n",
              "      <td>3d1539e56495b6991f0a3ef5a61ca3d03ce4fff7380e9a...</td>\n",
              "      <td>F</td>\n",
              "      <td>C</td>\n",
              "      <td>4e07408562bedb8b60ce05c1decfe3ad16b72230967de0...</td>\n",
              "      <td>7.706428</td>\n",
              "    </tr>\n",
              "    <tr>\n",
              "      <th>1</th>\n",
              "      <td>03930f033646d073462b35d411616323597715ac4fc398...</td>\n",
              "      <td>23/01/15</td>\n",
              "      <td>11/04/15</td>\n",
              "      <td>16/04/15</td>\n",
              "      <td>1</td>\n",
              "      <td>1</td>\n",
              "      <td>2</td>\n",
              "      <td>0</td>\n",
              "      <td>46</td>\n",
              "      <td>3</td>\n",
              "      <td>3</td>\n",
              "      <td>4</td>\n",
              "      <td>5</td>\n",
              "      <td>2.0</td>\n",
              "      <td>7.0</td>\n",
              "      <td>5</td>\n",
              "      <td>2</td>\n",
              "      <td>F</td>\n",
              "      <td>1</td>\n",
              "      <td>3d1539e56495b6991f0a3ef5a61ca3d03ce4fff7380e9a...</td>\n",
              "      <td>F</td>\n",
              "      <td>A</td>\n",
              "      <td>39fa9ec190eee7b6f4dff1100d6343e10918d044c75eac...</td>\n",
              "      <td>6.662563</td>\n",
              "    </tr>\n",
              "    <tr>\n",
              "      <th>2</th>\n",
              "      <td>d145a32920e6587ad95bfe299d80c0affa268220535aaf...</td>\n",
              "      <td>28/01/15</td>\n",
              "      <td>01/02/15</td>\n",
              "      <td>05/02/15</td>\n",
              "      <td>1</td>\n",
              "      <td>1</td>\n",
              "      <td>2</td>\n",
              "      <td>0</td>\n",
              "      <td>47</td>\n",
              "      <td>1</td>\n",
              "      <td>5</td>\n",
              "      <td>4</td>\n",
              "      <td>4</td>\n",
              "      <td>2.0</td>\n",
              "      <td>7.0</td>\n",
              "      <td>1</td>\n",
              "      <td>2</td>\n",
              "      <td>F</td>\n",
              "      <td>1</td>\n",
              "      <td>3d1539e56495b6991f0a3ef5a61ca3d03ce4fff7380e9a...</td>\n",
              "      <td>E</td>\n",
              "      <td>A</td>\n",
              "      <td>535fa30d7e25dd8a49f1536779734ec8286108d115da50...</td>\n",
              "      <td>7.871602</td>\n",
              "    </tr>\n",
              "    <tr>\n",
              "      <th>3</th>\n",
              "      <td>cfd77f44811ed62f25a220b53324cdbafc662a4c9e5f04...</td>\n",
              "      <td>02/05/15</td>\n",
              "      <td>11/06/15</td>\n",
              "      <td>16/06/15</td>\n",
              "      <td>1</td>\n",
              "      <td>1</td>\n",
              "      <td>2</td>\n",
              "      <td>2</td>\n",
              "      <td>46</td>\n",
              "      <td>2</td>\n",
              "      <td>2</td>\n",
              "      <td>3</td>\n",
              "      <td>5</td>\n",
              "      <td>2.0</td>\n",
              "      <td>7.0</td>\n",
              "      <td>2</td>\n",
              "      <td>2</td>\n",
              "      <td>F</td>\n",
              "      <td>1</td>\n",
              "      <td>3d1539e56495b6991f0a3ef5a61ca3d03ce4fff7380e9a...</td>\n",
              "      <td>D</td>\n",
              "      <td>A</td>\n",
              "      <td>d4735e3a265e16eee03f59718b9b5d03019c07d8b6c51f...</td>\n",
              "      <td>5.344943</td>\n",
              "    </tr>\n",
              "    <tr>\n",
              "      <th>4</th>\n",
              "      <td>937cff9e4dcfc2459620153dfc8b9962ac22bea67dfb29...</td>\n",
              "      <td>02/09/15</td>\n",
              "      <td>14/12/15</td>\n",
              "      <td>19/12/15</td>\n",
              "      <td>1</td>\n",
              "      <td>1</td>\n",
              "      <td>2</td>\n",
              "      <td>0</td>\n",
              "      <td>46</td>\n",
              "      <td>2</td>\n",
              "      <td>2</td>\n",
              "      <td>4</td>\n",
              "      <td>5</td>\n",
              "      <td>2.0</td>\n",
              "      <td>7.0</td>\n",
              "      <td>2</td>\n",
              "      <td>2</td>\n",
              "      <td>F</td>\n",
              "      <td>1</td>\n",
              "      <td>3d1539e56495b6991f0a3ef5a61ca3d03ce4fff7380e9a...</td>\n",
              "      <td>D</td>\n",
              "      <td>A</td>\n",
              "      <td>d4735e3a265e16eee03f59718b9b5d03019c07d8b6c51f...</td>\n",
              "      <td>7.059346</td>\n",
              "    </tr>\n",
              "  </tbody>\n",
              "</table>\n",
              "</div>"
            ],
            "text/plain": [
              "                                      reservation_id booking_date  \\\n",
              "0  07659f3758d8aee27f5a7e2887adeacb67021cb95ada1b...     05/04/18   \n",
              "1  03930f033646d073462b35d411616323597715ac4fc398...     23/01/15   \n",
              "2  d145a32920e6587ad95bfe299d80c0affa268220535aaf...     28/01/15   \n",
              "3  cfd77f44811ed62f25a220b53324cdbafc662a4c9e5f04...     02/05/15   \n",
              "4  937cff9e4dcfc2459620153dfc8b9962ac22bea67dfb29...     02/09/15   \n",
              "\n",
              "  checkin_date checkout_date  channel_code  main_product_code  numberofadults  \\\n",
              "0     05/04/18      06/04/18             3                  1               2   \n",
              "1     11/04/15      16/04/15             1                  1               2   \n",
              "2     01/02/15      05/02/15             1                  1               2   \n",
              "3     11/06/15      16/06/15             1                  1               2   \n",
              "4     14/12/15      19/12/15             1                  1               2   \n",
              "\n",
              "   numberofchildren  persontravellingid  resort_region_code  resort_type_code  \\\n",
              "0                 0                  46                   3                 3   \n",
              "1                 0                  46                   3                 3   \n",
              "2                 0                  47                   1                 5   \n",
              "3                 2                  46                   2                 2   \n",
              "4                 0                  46                   2                 2   \n",
              "\n",
              "   room_type_booked_code  roomnights  season_holidayed_code  \\\n",
              "0                      3           1                    2.0   \n",
              "1                      4           5                    2.0   \n",
              "2                      4           4                    2.0   \n",
              "3                      3           5                    2.0   \n",
              "4                      4           5                    2.0   \n",
              "\n",
              "   state_code_residence  state_code_resort  total_pax member_age_buckets  \\\n",
              "0                   7.0                  3          3                  F   \n",
              "1                   7.0                  5          2                  F   \n",
              "2                   7.0                  1          2                  F   \n",
              "3                   7.0                  2          2                  F   \n",
              "4                   7.0                  2          2                  F   \n",
              "\n",
              "   booking_type_code                                           memberid  \\\n",
              "0                  1  3d1539e56495b6991f0a3ef5a61ca3d03ce4fff7380e9a...   \n",
              "1                  1  3d1539e56495b6991f0a3ef5a61ca3d03ce4fff7380e9a...   \n",
              "2                  1  3d1539e56495b6991f0a3ef5a61ca3d03ce4fff7380e9a...   \n",
              "3                  1  3d1539e56495b6991f0a3ef5a61ca3d03ce4fff7380e9a...   \n",
              "4                  1  3d1539e56495b6991f0a3ef5a61ca3d03ce4fff7380e9a...   \n",
              "\n",
              "  cluster_code reservationstatusid_code  \\\n",
              "0            F                        C   \n",
              "1            F                        A   \n",
              "2            E                        A   \n",
              "3            D                        A   \n",
              "4            D                        A   \n",
              "\n",
              "                                           resort_id  \\\n",
              "0  4e07408562bedb8b60ce05c1decfe3ad16b72230967de0...   \n",
              "1  39fa9ec190eee7b6f4dff1100d6343e10918d044c75eac...   \n",
              "2  535fa30d7e25dd8a49f1536779734ec8286108d115da50...   \n",
              "3  d4735e3a265e16eee03f59718b9b5d03019c07d8b6c51f...   \n",
              "4  d4735e3a265e16eee03f59718b9b5d03019c07d8b6c51f...   \n",
              "\n",
              "   amount_spent_per_room_night_scaled  \n",
              "0                            7.706428  \n",
              "1                            6.662563  \n",
              "2                            7.871602  \n",
              "3                            5.344943  \n",
              "4                            7.059346  "
            ]
          },
          "execution_count": 11,
          "metadata": {
            "tags": []
          },
          "output_type": "execute_result"
        }
      ],
      "source": [
        "pd.options.display.max_columns = None\n",
        "df_train.head()"
      ]
    },
    {
      "cell_type": "markdown",
      "metadata": {
        "id": "LoLzls1zFI7F"
      },
      "source": [
        "EDA"
      ]
    },
    {
      "cell_type": "code",
      "execution_count": null,
      "metadata": {
        "colab": {
          "base_uri": "https://localhost:8080/",
          "height": 493
        },
        "id": "07nKj6JIFH19",
        "outputId": "cd491268-47c3-4848-a0ee-b2d5cabec352",
        "vscode": {
          "languageId": "python"
        }
      },
      "outputs": [
        {
          "name": "stdout",
          "output_type": "stream",
          "text": [
            "(341424, 24)\n",
            "*********************************************************\n",
            "Column Data types:\n",
            "reservation_id                         object\n",
            "booking_date                           object\n",
            "checkin_date                           object\n",
            "checkout_date                          object\n",
            "channel_code                            int64\n",
            "main_product_code                       int64\n",
            "numberofadults                          int64\n",
            "numberofchildren                        int64\n",
            "persontravellingid                      int64\n",
            "resort_region_code                      int64\n",
            "resort_type_code                        int64\n",
            "room_type_booked_code                   int64\n",
            "roomnights                              int64\n",
            "season_holidayed_code                 float64\n",
            "state_code_residence                  float64\n",
            "state_code_resort                       int64\n",
            "total_pax                               int64\n",
            "member_age_buckets                     object\n",
            "booking_type_code                       int64\n",
            "memberid                               object\n",
            "cluster_code                           object\n",
            "reservationstatusid_code               object\n",
            "resort_id                              object\n",
            "amount_spent_per_room_night_scaled    float64\n",
            "dtype: object\n"
          ]
        }
      ],
      "source": [
        "# Dataset dimensions\n",
        "print(df_train.shape)\n",
        "print(\"*\"*57)\n",
        "print(\"Column Data types:\")\n",
        "print(df_train.dtypes)"
      ]
    },
    {
      "cell_type": "code",
      "execution_count": null,
      "metadata": {
        "colab": {
          "base_uri": "https://localhost:8080/",
          "height": 317
        },
        "id": "ogcFHHMfOoxa",
        "outputId": "21676ef9-29ab-4fc6-c8c6-3ebb7373f16d",
        "vscode": {
          "languageId": "python"
        }
      },
      "outputs": [
        {
          "data": {
            "text/html": [
              "<div>\n",
              "<style scoped>\n",
              "    .dataframe tbody tr th:only-of-type {\n",
              "        vertical-align: middle;\n",
              "    }\n",
              "\n",
              "    .dataframe tbody tr th {\n",
              "        vertical-align: top;\n",
              "    }\n",
              "\n",
              "    .dataframe thead th {\n",
              "        text-align: right;\n",
              "    }\n",
              "</style>\n",
              "<table border=\"1\" class=\"dataframe\">\n",
              "  <thead>\n",
              "    <tr style=\"text-align: right;\">\n",
              "      <th></th>\n",
              "      <th>channel_code</th>\n",
              "      <th>main_product_code</th>\n",
              "      <th>numberofadults</th>\n",
              "      <th>numberofchildren</th>\n",
              "      <th>persontravellingid</th>\n",
              "      <th>resort_region_code</th>\n",
              "      <th>resort_type_code</th>\n",
              "      <th>room_type_booked_code</th>\n",
              "      <th>roomnights</th>\n",
              "      <th>season_holidayed_code</th>\n",
              "      <th>state_code_residence</th>\n",
              "      <th>state_code_resort</th>\n",
              "      <th>total_pax</th>\n",
              "      <th>booking_type_code</th>\n",
              "      <th>amount_spent_per_room_night_scaled</th>\n",
              "      <th>amount_spent_range</th>\n",
              "    </tr>\n",
              "  </thead>\n",
              "  <tbody>\n",
              "    <tr>\n",
              "      <th>count</th>\n",
              "      <td>341424.000000</td>\n",
              "      <td>341424.000000</td>\n",
              "      <td>341424.000000</td>\n",
              "      <td>341424.000000</td>\n",
              "      <td>341424.000000</td>\n",
              "      <td>341424.000000</td>\n",
              "      <td>341424.000000</td>\n",
              "      <td>341424.000000</td>\n",
              "      <td>341424.000000</td>\n",
              "      <td>341310.000000</td>\n",
              "      <td>336660.000000</td>\n",
              "      <td>341424.000000</td>\n",
              "      <td>341424.000000</td>\n",
              "      <td>341424.000000</td>\n",
              "      <td>341424.000000</td>\n",
              "      <td>341424.000000</td>\n",
              "    </tr>\n",
              "    <tr>\n",
              "      <th>mean</th>\n",
              "      <td>1.902810</td>\n",
              "      <td>2.208738</td>\n",
              "      <td>3.275361</td>\n",
              "      <td>0.362696</td>\n",
              "      <td>210.288905</td>\n",
              "      <td>1.772960</td>\n",
              "      <td>2.193832</td>\n",
              "      <td>2.890321</td>\n",
              "      <td>3.738346</td>\n",
              "      <td>2.673862</td>\n",
              "      <td>7.260708</td>\n",
              "      <td>4.763303</td>\n",
              "      <td>3.193390</td>\n",
              "      <td>1.124209</td>\n",
              "      <td>7.720801</td>\n",
              "      <td>0.796690</td>\n",
              "    </tr>\n",
              "    <tr>\n",
              "      <th>std</th>\n",
              "      <td>0.915311</td>\n",
              "      <td>0.823779</td>\n",
              "      <td>1.756062</td>\n",
              "      <td>0.758019</td>\n",
              "      <td>865.735577</td>\n",
              "      <td>0.750806</td>\n",
              "      <td>1.551451</td>\n",
              "      <td>0.804260</td>\n",
              "      <td>2.479054</td>\n",
              "      <td>0.885650</td>\n",
              "      <td>4.701283</td>\n",
              "      <td>3.103909</td>\n",
              "      <td>1.167824</td>\n",
              "      <td>0.329821</td>\n",
              "      <td>1.090109</td>\n",
              "      <td>0.402462</td>\n",
              "    </tr>\n",
              "    <tr>\n",
              "      <th>min</th>\n",
              "      <td>1.000000</td>\n",
              "      <td>1.000000</td>\n",
              "      <td>0.000000</td>\n",
              "      <td>0.000000</td>\n",
              "      <td>45.000000</td>\n",
              "      <td>1.000000</td>\n",
              "      <td>0.000000</td>\n",
              "      <td>1.000000</td>\n",
              "      <td>-45.000000</td>\n",
              "      <td>1.000000</td>\n",
              "      <td>1.000000</td>\n",
              "      <td>1.000000</td>\n",
              "      <td>0.000000</td>\n",
              "      <td>1.000000</td>\n",
              "      <td>1.600397</td>\n",
              "      <td>0.000000</td>\n",
              "    </tr>\n",
              "    <tr>\n",
              "      <th>25%</th>\n",
              "      <td>1.000000</td>\n",
              "      <td>2.000000</td>\n",
              "      <td>2.000000</td>\n",
              "      <td>0.000000</td>\n",
              "      <td>45.000000</td>\n",
              "      <td>1.000000</td>\n",
              "      <td>1.000000</td>\n",
              "      <td>2.000000</td>\n",
              "      <td>2.000000</td>\n",
              "      <td>2.000000</td>\n",
              "      <td>4.000000</td>\n",
              "      <td>2.000000</td>\n",
              "      <td>2.000000</td>\n",
              "      <td>1.000000</td>\n",
              "      <td>7.187260</td>\n",
              "      <td>1.000000</td>\n",
              "    </tr>\n",
              "    <tr>\n",
              "      <th>50%</th>\n",
              "      <td>2.000000</td>\n",
              "      <td>2.000000</td>\n",
              "      <td>3.000000</td>\n",
              "      <td>0.000000</td>\n",
              "      <td>45.000000</td>\n",
              "      <td>2.000000</td>\n",
              "      <td>2.000000</td>\n",
              "      <td>3.000000</td>\n",
              "      <td>3.000000</td>\n",
              "      <td>3.000000</td>\n",
              "      <td>8.000000</td>\n",
              "      <td>5.000000</td>\n",
              "      <td>3.000000</td>\n",
              "      <td>1.000000</td>\n",
              "      <td>7.860814</td>\n",
              "      <td>1.000000</td>\n",
              "    </tr>\n",
              "    <tr>\n",
              "      <th>75%</th>\n",
              "      <td>3.000000</td>\n",
              "      <td>3.000000</td>\n",
              "      <td>4.000000</td>\n",
              "      <td>0.000000</td>\n",
              "      <td>45.000000</td>\n",
              "      <td>2.000000</td>\n",
              "      <td>3.000000</td>\n",
              "      <td>3.000000</td>\n",
              "      <td>4.000000</td>\n",
              "      <td>3.000000</td>\n",
              "      <td>8.000000</td>\n",
              "      <td>7.000000</td>\n",
              "      <td>4.000000</td>\n",
              "      <td>1.000000</td>\n",
              "      <td>8.419144</td>\n",
              "      <td>1.000000</td>\n",
              "    </tr>\n",
              "    <tr>\n",
              "      <th>max</th>\n",
              "      <td>3.000000</td>\n",
              "      <td>7.000000</td>\n",
              "      <td>32.000000</td>\n",
              "      <td>13.000000</td>\n",
              "      <td>4995.000000</td>\n",
              "      <td>3.000000</td>\n",
              "      <td>7.000000</td>\n",
              "      <td>6.000000</td>\n",
              "      <td>60.000000</td>\n",
              "      <td>4.000000</td>\n",
              "      <td>38.000000</td>\n",
              "      <td>13.000000</td>\n",
              "      <td>24.000000</td>\n",
              "      <td>2.000000</td>\n",
              "      <td>10.816652</td>\n",
              "      <td>1.000000</td>\n",
              "    </tr>\n",
              "  </tbody>\n",
              "</table>\n",
              "</div>"
            ],
            "text/plain": [
              "        channel_code  main_product_code  numberofadults  numberofchildren  \\\n",
              "count  341424.000000      341424.000000   341424.000000     341424.000000   \n",
              "mean        1.902810           2.208738        3.275361          0.362696   \n",
              "std         0.915311           0.823779        1.756062          0.758019   \n",
              "min         1.000000           1.000000        0.000000          0.000000   \n",
              "25%         1.000000           2.000000        2.000000          0.000000   \n",
              "50%         2.000000           2.000000        3.000000          0.000000   \n",
              "75%         3.000000           3.000000        4.000000          0.000000   \n",
              "max         3.000000           7.000000       32.000000         13.000000   \n",
              "\n",
              "       persontravellingid  resort_region_code  resort_type_code  \\\n",
              "count       341424.000000       341424.000000     341424.000000   \n",
              "mean           210.288905            1.772960          2.193832   \n",
              "std            865.735577            0.750806          1.551451   \n",
              "min             45.000000            1.000000          0.000000   \n",
              "25%             45.000000            1.000000          1.000000   \n",
              "50%             45.000000            2.000000          2.000000   \n",
              "75%             45.000000            2.000000          3.000000   \n",
              "max           4995.000000            3.000000          7.000000   \n",
              "\n",
              "       room_type_booked_code     roomnights  season_holidayed_code  \\\n",
              "count          341424.000000  341424.000000          341310.000000   \n",
              "mean                2.890321       3.738346               2.673862   \n",
              "std                 0.804260       2.479054               0.885650   \n",
              "min                 1.000000     -45.000000               1.000000   \n",
              "25%                 2.000000       2.000000               2.000000   \n",
              "50%                 3.000000       3.000000               3.000000   \n",
              "75%                 3.000000       4.000000               3.000000   \n",
              "max                 6.000000      60.000000               4.000000   \n",
              "\n",
              "       state_code_residence  state_code_resort      total_pax  \\\n",
              "count         336660.000000      341424.000000  341424.000000   \n",
              "mean               7.260708           4.763303       3.193390   \n",
              "std                4.701283           3.103909       1.167824   \n",
              "min                1.000000           1.000000       0.000000   \n",
              "25%                4.000000           2.000000       2.000000   \n",
              "50%                8.000000           5.000000       3.000000   \n",
              "75%                8.000000           7.000000       4.000000   \n",
              "max               38.000000          13.000000      24.000000   \n",
              "\n",
              "       booking_type_code  amount_spent_per_room_night_scaled  \\\n",
              "count      341424.000000                       341424.000000   \n",
              "mean            1.124209                            7.720801   \n",
              "std             0.329821                            1.090109   \n",
              "min             1.000000                            1.600397   \n",
              "25%             1.000000                            7.187260   \n",
              "50%             1.000000                            7.860814   \n",
              "75%             1.000000                            8.419144   \n",
              "max             2.000000                           10.816652   \n",
              "\n",
              "       amount_spent_range  \n",
              "count       341424.000000  \n",
              "mean             0.796690  \n",
              "std              0.402462  \n",
              "min              0.000000  \n",
              "25%              1.000000  \n",
              "50%              1.000000  \n",
              "75%              1.000000  \n",
              "max              1.000000  "
            ]
          },
          "execution_count": 7,
          "metadata": {
            "tags": []
          },
          "output_type": "execute_result"
        }
      ],
      "source": [
        "# Dataset Description\n",
        "df_train.describe()"
      ]
    },
    {
      "cell_type": "code",
      "execution_count": null,
      "metadata": {
        "id": "sPWZVpmCs3jf",
        "vscode": {
          "languageId": "python"
        }
      },
      "outputs": [],
      "source": [
        "df_train_copy = df_train "
      ]
    },
    {
      "cell_type": "code",
      "execution_count": null,
      "metadata": {
        "id": "93xcD9fxrlB4",
        "vscode": {
          "languageId": "python"
        }
      },
      "outputs": [],
      "source": [
        "# 0: below average spenders, \n",
        "df_train_copy['amount_spent_low'] = df_train_copy['amount_spent_per_room_night_scaled'].apply(lambda s:1 if s<=5.999999 else 0)\n",
        "df_train_copy['amount_spent_average'] = df_train_copy['amount_spent_per_room_night_scaled'].map(lambda s:1 if s>=6 and s<=7.999999 else 0 )\n",
        "df_train_copy['amount_spent_high'] = df_train_copy['amount_spent_per_room_night_scaled'].map(lambda s:1 if s>=8 else 0)\n",
        "#x['level1'] = df1['length_of_service'].map(lambda s: 1 if 1<= s <= 5 else 0)"
      ]
    },
    {
      "cell_type": "code",
      "execution_count": null,
      "metadata": {
        "colab": {
          "base_uri": "https://localhost:8080/",
          "height": 204
        },
        "id": "V5bhaD0-a_9d",
        "outputId": "6b2eda02-6f6e-4218-9357-ba342e9748e1",
        "vscode": {
          "languageId": "python"
        }
      },
      "outputs": [
        {
          "name": "stdout",
          "output_type": "stream",
          "text": [
            "0    317310\n",
            "1     24114\n",
            "Name: amount_spent_low, dtype: int64\n",
            "**************************\n",
            "0    172473\n",
            "1    168951\n",
            "Name: amount_spent_average, dtype: int64\n",
            "**************************\n",
            "0    193065\n",
            "1    148359\n",
            "Name: amount_spent_high, dtype: int64\n"
          ]
        }
      ],
      "source": [
        "print(df_train_copy['amount_spent_low'].value_counts())\n",
        "print(\"**************************\")\n",
        "print(df_train_copy['amount_spent_average'].value_counts())\n",
        "print(\"**************************\")\n",
        "print(df_train_copy['amount_spent_high'].value_counts())"
      ]
    },
    {
      "cell_type": "code",
      "execution_count": null,
      "metadata": {
        "colab": {
          "base_uri": "https://localhost:8080/",
          "height": 68
        },
        "id": "kWcit0wfWacE",
        "outputId": "4414d2df-9825-4752-f877-9d3be037097d",
        "vscode": {
          "languageId": "python"
        }
      },
      "outputs": [
        {
          "data": {
            "text/plain": [
              "1    317310\n",
              "0     24114\n",
              "Name: amount_spent_range, dtype: int64"
            ]
          },
          "execution_count": 37,
          "metadata": {
            "tags": []
          },
          "output_type": "execute_result"
        }
      ],
      "source": [
        "df_train_copy['amount_spent_range'].value_counts()"
      ]
    },
    {
      "cell_type": "code",
      "execution_count": null,
      "metadata": {
        "colab": {
          "base_uri": "https://localhost:8080/",
          "height": 68
        },
        "id": "vbnG5bl6wlCm",
        "outputId": "8f1d3029-f180-4525-c2a7-4b89c1e0e218",
        "vscode": {
          "languageId": "python"
        }
      },
      "outputs": [
        {
          "name": "stdout",
          "output_type": "stream",
          "text": [
            "1    272009\n",
            "0     69415\n",
            "Name: amount_spent_range, dtype: int64\n"
          ]
        }
      ],
      "source": [
        "print(df_train_copy[\"amount_spent_range\"].value_counts())"
      ]
    },
    {
      "cell_type": "code",
      "execution_count": null,
      "metadata": {
        "colab": {
          "base_uri": "https://localhost:8080/",
          "height": 403
        },
        "id": "kYHNln3jb5Kl",
        "outputId": "841d1987-5f28-4c93-b464-77c4270159ed",
        "vscode": {
          "languageId": "python"
        }
      },
      "outputs": [
        {
          "name": "stderr",
          "output_type": "stream",
          "text": [
            "/usr/local/lib/python3.6/dist-packages/seaborn/axisgrid.py:230: UserWarning: The `size` paramter has been renamed to `height`; please update your code.\n",
            "  warnings.warn(msg, UserWarning)\n"
          ]
        },
        {
          "data": {
            "image/png": "[encoded data removed]",
            "text/plain": [
              "<Figure size 461.25x360 with 1 Axes>"
            ]
          },
          "metadata": {
            "tags": []
          },
          "output_type": "display_data"
        }
      ],
      "source": [
        "#Histogram and PDF Analysis\n",
        "sns.FacetGrid(df_train_copy, hue=\"amount_spent_low\", size=5).map(sns.distplot, \"channel_code\").add_legend()\n",
        "plt.show();"
      ]
    },
    {
      "cell_type": "code",
      "execution_count": null,
      "metadata": {
        "colab": {
          "base_uri": "https://localhost:8080/",
          "height": 403
        },
        "id": "6g2xXI-Qc2t_",
        "outputId": "9e952b59-3728-43a5-b79a-580f6edc4c06",
        "vscode": {
          "languageId": "python"
        }
      },
      "outputs": [
        {
          "name": "stderr",
          "output_type": "stream",
          "text": [
            "/usr/local/lib/python3.6/dist-packages/seaborn/axisgrid.py:230: UserWarning: The `size` paramter has been renamed to `height`; please update your code.\n",
            "  warnings.warn(msg, UserWarning)\n"
          ]
        },
        {
          "data": {
            "image/png": "[encoded data removed]",
            "text/plain": [
              "<Figure size 485.125x360 with 1 Axes>"
            ]
          },
          "metadata": {
            "tags": []
          },
          "output_type": "display_data"
        }
      ],
      "source": [
        "#Histogram and PDF Analysis\n",
        "sns.FacetGrid(df_train_copy, hue=\"amount_spent_average\", size=5).map(sns.distplot, \"channel_code\").add_legend()\n",
        "plt.show();"
      ]
    },
    {
      "cell_type": "code",
      "execution_count": null,
      "metadata": {
        "colab": {
          "base_uri": "https://localhost:8080/",
          "height": 403
        },
        "id": "JGYCj45Hc8PX",
        "outputId": "66705c8f-4686-48be-fb02-f0f15277c0cf",
        "vscode": {
          "languageId": "python"
        }
      },
      "outputs": [
        {
          "name": "stderr",
          "output_type": "stream",
          "text": [
            "/usr/local/lib/python3.6/dist-packages/seaborn/axisgrid.py:230: UserWarning: The `size` paramter has been renamed to `height`; please update your code.\n",
            "  warnings.warn(msg, UserWarning)\n"
          ]
        },
        {
          "data": {
            "image/png": "[encoded data removed]",
            "text/plain": [
              "<Figure size 466.25x360 with 1 Axes>"
            ]
          },
          "metadata": {
            "tags": []
          },
          "output_type": "display_data"
        }
      ],
      "source": [
        "#Histogram and PDF Analysis\n",
        "sns.FacetGrid(df_train_copy, hue=\"amount_spent_high\", size=5).map(sns.distplot, \"channel_code\").add_legend()\n",
        "plt.show();"
      ]
    },
    {
      "cell_type": "code",
      "execution_count": null,
      "metadata": {
        "colab": {
          "base_uri": "https://localhost:8080/",
          "height": 255
        },
        "id": "5q7geON7P5FY",
        "outputId": "90404084-5c95-4367-a5e7-57e671f4fd2e",
        "vscode": {
          "languageId": "python"
        }
      },
      "outputs": [
        {
          "name": "stdout",
          "output_type": "stream",
          "text": [
            "channel code 1:\n",
            "1    148581\n",
            "0     12644\n",
            "Name: amount_spent_range, dtype: int64\n",
            "*************************************\n",
            "channel code 2:\n",
            "1    48225\n",
            "0     3932\n",
            "Name: amount_spent_range, dtype: int64\n",
            "*************************************\n",
            "channel code 3:\n",
            "1    120504\n",
            "0      7538\n",
            "Name: amount_spent_range, dtype: int64\n"
          ]
        }
      ],
      "source": [
        "print(\"channel code 1:\")\n",
        "print(df_train_copy['amount_spent_range'].loc[df_train_copy['channel_code']==1].value_counts())\n",
        "print(\"*************************************\")\n",
        "print(\"channel code 2:\")\n",
        "print(df_train_copy['amount_spent_range'].loc[df_train_copy['channel_code']==2].value_counts())\n",
        "print(\"*************************************\")\n",
        "print(\"channel code 3:\")\n",
        "print(df_train_copy['amount_spent_range'].loc[df_train_copy['channel_code']==3].value_counts())"
      ]
    },
    {
      "cell_type": "code",
      "execution_count": null,
      "metadata": {
        "id": "c8IWuRJKTH0I",
        "vscode": {
          "languageId": "python"
        }
      },
      "outputs": [],
      "source": [
        "one_hot = pd.get_dummies(df_train_copy['channel_code'])\n",
        "one_hot.columns = ['CC1','CC2','CC3']\n",
        "df_train_copy = df_train_copy.join(one_hot)"
      ]
    },
    {
      "cell_type": "code",
      "execution_count": null,
      "metadata": {
        "colab": {
          "base_uri": "https://localhost:8080/",
          "height": 204
        },
        "id": "_RM1lGHsTrhZ",
        "outputId": "91e1ff14-7237-4e31-e950-9c7d8dc73432",
        "vscode": {
          "languageId": "python"
        }
      },
      "outputs": [
        {
          "data": {
            "text/html": [
              "<div>\n",
              "<style scoped>\n",
              "    .dataframe tbody tr th:only-of-type {\n",
              "        vertical-align: middle;\n",
              "    }\n",
              "\n",
              "    .dataframe tbody tr th {\n",
              "        vertical-align: top;\n",
              "    }\n",
              "\n",
              "    .dataframe thead th {\n",
              "        text-align: right;\n",
              "    }\n",
              "</style>\n",
              "<table border=\"1\" class=\"dataframe\">\n",
              "  <thead>\n",
              "    <tr style=\"text-align: right;\">\n",
              "      <th></th>\n",
              "      <th>CC1</th>\n",
              "      <th>CC2</th>\n",
              "      <th>CC3</th>\n",
              "    </tr>\n",
              "  </thead>\n",
              "  <tbody>\n",
              "    <tr>\n",
              "      <th>0</th>\n",
              "      <td>0</td>\n",
              "      <td>0</td>\n",
              "      <td>1</td>\n",
              "    </tr>\n",
              "    <tr>\n",
              "      <th>1</th>\n",
              "      <td>1</td>\n",
              "      <td>0</td>\n",
              "      <td>0</td>\n",
              "    </tr>\n",
              "    <tr>\n",
              "      <th>2</th>\n",
              "      <td>1</td>\n",
              "      <td>0</td>\n",
              "      <td>0</td>\n",
              "    </tr>\n",
              "    <tr>\n",
              "      <th>3</th>\n",
              "      <td>1</td>\n",
              "      <td>0</td>\n",
              "      <td>0</td>\n",
              "    </tr>\n",
              "    <tr>\n",
              "      <th>4</th>\n",
              "      <td>1</td>\n",
              "      <td>0</td>\n",
              "      <td>0</td>\n",
              "    </tr>\n",
              "  </tbody>\n",
              "</table>\n",
              "</div>"
            ],
            "text/plain": [
              "   CC1  CC2  CC3\n",
              "0    0    0    1\n",
              "1    1    0    0\n",
              "2    1    0    0\n",
              "3    1    0    0\n",
              "4    1    0    0"
            ]
          },
          "execution_count": 21,
          "metadata": {
            "tags": []
          },
          "output_type": "execute_result"
        }
      ],
      "source": [
        "one_hot.head()"
      ]
    },
    {
      "cell_type": "code",
      "execution_count": null,
      "metadata": {
        "id": "czH3t87Fghe2",
        "vscode": {
          "languageId": "python"
        }
      },
      "outputs": [],
      "source": [
        "df_train_copy[\"HCChan\"] = df_train_copy['channel_code'].map(lambda s:0 if s==3 else 1)"
      ]
    },
    {
      "cell_type": "code",
      "execution_count": null,
      "metadata": {
        "colab": {
          "base_uri": "https://localhost:8080/",
          "height": 224
        },
        "id": "Xgbv0zRUeobP",
        "outputId": "0f4f4938-6d2b-4ecf-b352-dcc35efc9e2e",
        "vscode": {
          "languageId": "python"
        }
      },
      "outputs": [
        {
          "data": {
            "text/html": [
              "<div>\n",
              "<style scoped>\n",
              "    .dataframe tbody tr th:only-of-type {\n",
              "        vertical-align: middle;\n",
              "    }\n",
              "\n",
              "    .dataframe tbody tr th {\n",
              "        vertical-align: top;\n",
              "    }\n",
              "\n",
              "    .dataframe thead th {\n",
              "        text-align: right;\n",
              "    }\n",
              "</style>\n",
              "<table border=\"1\" class=\"dataframe\">\n",
              "  <thead>\n",
              "    <tr style=\"text-align: right;\">\n",
              "      <th></th>\n",
              "      <th>reservation_id</th>\n",
              "      <th>booking_date</th>\n",
              "      <th>checkin_date</th>\n",
              "      <th>checkout_date</th>\n",
              "      <th>channel_code</th>\n",
              "      <th>main_product_code</th>\n",
              "      <th>numberofadults</th>\n",
              "      <th>numberofchildren</th>\n",
              "      <th>persontravellingid</th>\n",
              "      <th>resort_region_code</th>\n",
              "      <th>resort_type_code</th>\n",
              "      <th>room_type_booked_code</th>\n",
              "      <th>roomnights</th>\n",
              "      <th>season_holidayed_code</th>\n",
              "      <th>state_code_residence</th>\n",
              "      <th>state_code_resort</th>\n",
              "      <th>total_pax</th>\n",
              "      <th>member_age_buckets</th>\n",
              "      <th>booking_type_code</th>\n",
              "      <th>memberid</th>\n",
              "      <th>cluster_code</th>\n",
              "      <th>reservationstatusid_code</th>\n",
              "      <th>resort_id</th>\n",
              "      <th>amount_spent_per_room_night_scaled</th>\n",
              "      <th>amount_spent_range</th>\n",
              "      <th>amount_spent_low</th>\n",
              "      <th>amount_spent_average</th>\n",
              "      <th>amount_spent_high</th>\n",
              "      <th>HCChan</th>\n",
              "    </tr>\n",
              "  </thead>\n",
              "  <tbody>\n",
              "    <tr>\n",
              "      <th>0</th>\n",
              "      <td>07659f3758d8aee27f5a7e2887adeacb67021cb95ada1b...</td>\n",
              "      <td>05/04/18</td>\n",
              "      <td>05/04/18</td>\n",
              "      <td>06/04/18</td>\n",
              "      <td>3</td>\n",
              "      <td>1</td>\n",
              "      <td>2</td>\n",
              "      <td>0</td>\n",
              "      <td>46</td>\n",
              "      <td>3</td>\n",
              "      <td>3</td>\n",
              "      <td>3</td>\n",
              "      <td>1</td>\n",
              "      <td>2.0</td>\n",
              "      <td>7.0</td>\n",
              "      <td>3</td>\n",
              "      <td>3</td>\n",
              "      <td>F</td>\n",
              "      <td>1</td>\n",
              "      <td>3d1539e56495b6991f0a3ef5a61ca3d03ce4fff7380e9a...</td>\n",
              "      <td>F</td>\n",
              "      <td>C</td>\n",
              "      <td>4e07408562bedb8b60ce05c1decfe3ad16b72230967de0...</td>\n",
              "      <td>7.706428</td>\n",
              "      <td>1</td>\n",
              "      <td>0</td>\n",
              "      <td>1</td>\n",
              "      <td>0</td>\n",
              "      <td>0</td>\n",
              "    </tr>\n",
              "    <tr>\n",
              "      <th>1</th>\n",
              "      <td>03930f033646d073462b35d411616323597715ac4fc398...</td>\n",
              "      <td>23/01/15</td>\n",
              "      <td>11/04/15</td>\n",
              "      <td>16/04/15</td>\n",
              "      <td>1</td>\n",
              "      <td>1</td>\n",
              "      <td>2</td>\n",
              "      <td>0</td>\n",
              "      <td>46</td>\n",
              "      <td>3</td>\n",
              "      <td>3</td>\n",
              "      <td>4</td>\n",
              "      <td>5</td>\n",
              "      <td>2.0</td>\n",
              "      <td>7.0</td>\n",
              "      <td>5</td>\n",
              "      <td>2</td>\n",
              "      <td>F</td>\n",
              "      <td>1</td>\n",
              "      <td>3d1539e56495b6991f0a3ef5a61ca3d03ce4fff7380e9a...</td>\n",
              "      <td>F</td>\n",
              "      <td>A</td>\n",
              "      <td>39fa9ec190eee7b6f4dff1100d6343e10918d044c75eac...</td>\n",
              "      <td>6.662563</td>\n",
              "      <td>1</td>\n",
              "      <td>0</td>\n",
              "      <td>1</td>\n",
              "      <td>0</td>\n",
              "      <td>1</td>\n",
              "    </tr>\n",
              "    <tr>\n",
              "      <th>2</th>\n",
              "      <td>d145a32920e6587ad95bfe299d80c0affa268220535aaf...</td>\n",
              "      <td>28/01/15</td>\n",
              "      <td>01/02/15</td>\n",
              "      <td>05/02/15</td>\n",
              "      <td>1</td>\n",
              "      <td>1</td>\n",
              "      <td>2</td>\n",
              "      <td>0</td>\n",
              "      <td>47</td>\n",
              "      <td>1</td>\n",
              "      <td>5</td>\n",
              "      <td>4</td>\n",
              "      <td>4</td>\n",
              "      <td>2.0</td>\n",
              "      <td>7.0</td>\n",
              "      <td>1</td>\n",
              "      <td>2</td>\n",
              "      <td>F</td>\n",
              "      <td>1</td>\n",
              "      <td>3d1539e56495b6991f0a3ef5a61ca3d03ce4fff7380e9a...</td>\n",
              "      <td>E</td>\n",
              "      <td>A</td>\n",
              "      <td>535fa30d7e25dd8a49f1536779734ec8286108d115da50...</td>\n",
              "      <td>7.871602</td>\n",
              "      <td>1</td>\n",
              "      <td>0</td>\n",
              "      <td>1</td>\n",
              "      <td>0</td>\n",
              "      <td>1</td>\n",
              "    </tr>\n",
              "    <tr>\n",
              "      <th>3</th>\n",
              "      <td>cfd77f44811ed62f25a220b53324cdbafc662a4c9e5f04...</td>\n",
              "      <td>02/05/15</td>\n",
              "      <td>11/06/15</td>\n",
              "      <td>16/06/15</td>\n",
              "      <td>1</td>\n",
              "      <td>1</td>\n",
              "      <td>2</td>\n",
              "      <td>2</td>\n",
              "      <td>46</td>\n",
              "      <td>2</td>\n",
              "      <td>2</td>\n",
              "      <td>3</td>\n",
              "      <td>5</td>\n",
              "      <td>2.0</td>\n",
              "      <td>7.0</td>\n",
              "      <td>2</td>\n",
              "      <td>2</td>\n",
              "      <td>F</td>\n",
              "      <td>1</td>\n",
              "      <td>3d1539e56495b6991f0a3ef5a61ca3d03ce4fff7380e9a...</td>\n",
              "      <td>D</td>\n",
              "      <td>A</td>\n",
              "      <td>d4735e3a265e16eee03f59718b9b5d03019c07d8b6c51f...</td>\n",
              "      <td>5.344943</td>\n",
              "      <td>0</td>\n",
              "      <td>1</td>\n",
              "      <td>0</td>\n",
              "      <td>0</td>\n",
              "      <td>1</td>\n",
              "    </tr>\n",
              "    <tr>\n",
              "      <th>4</th>\n",
              "      <td>937cff9e4dcfc2459620153dfc8b9962ac22bea67dfb29...</td>\n",
              "      <td>02/09/15</td>\n",
              "      <td>14/12/15</td>\n",
              "      <td>19/12/15</td>\n",
              "      <td>1</td>\n",
              "      <td>1</td>\n",
              "      <td>2</td>\n",
              "      <td>0</td>\n",
              "      <td>46</td>\n",
              "      <td>2</td>\n",
              "      <td>2</td>\n",
              "      <td>4</td>\n",
              "      <td>5</td>\n",
              "      <td>2.0</td>\n",
              "      <td>7.0</td>\n",
              "      <td>2</td>\n",
              "      <td>2</td>\n",
              "      <td>F</td>\n",
              "      <td>1</td>\n",
              "      <td>3d1539e56495b6991f0a3ef5a61ca3d03ce4fff7380e9a...</td>\n",
              "      <td>D</td>\n",
              "      <td>A</td>\n",
              "      <td>d4735e3a265e16eee03f59718b9b5d03019c07d8b6c51f...</td>\n",
              "      <td>7.059346</td>\n",
              "      <td>1</td>\n",
              "      <td>0</td>\n",
              "      <td>1</td>\n",
              "      <td>0</td>\n",
              "      <td>1</td>\n",
              "    </tr>\n",
              "  </tbody>\n",
              "</table>\n",
              "</div>"
            ],
            "text/plain": [
              "                                      reservation_id booking_date  \\\n",
              "0  07659f3758d8aee27f5a7e2887adeacb67021cb95ada1b...     05/04/18   \n",
              "1  03930f033646d073462b35d411616323597715ac4fc398...     23/01/15   \n",
              "2  d145a32920e6587ad95bfe299d80c0affa268220535aaf...     28/01/15   \n",
              "3  cfd77f44811ed62f25a220b53324cdbafc662a4c9e5f04...     02/05/15   \n",
              "4  937cff9e4dcfc2459620153dfc8b9962ac22bea67dfb29...     02/09/15   \n",
              "\n",
              "  checkin_date checkout_date  channel_code  main_product_code  numberofadults  \\\n",
              "0     05/04/18      06/04/18             3                  1               2   \n",
              "1     11/04/15      16/04/15             1                  1               2   \n",
              "2     01/02/15      05/02/15             1                  1               2   \n",
              "3     11/06/15      16/06/15             1                  1               2   \n",
              "4     14/12/15      19/12/15             1                  1               2   \n",
              "\n",
              "   numberofchildren  persontravellingid  resort_region_code  resort_type_code  \\\n",
              "0                 0                  46                   3                 3   \n",
              "1                 0                  46                   3                 3   \n",
              "2                 0                  47                   1                 5   \n",
              "3                 2                  46                   2                 2   \n",
              "4                 0                  46                   2                 2   \n",
              "\n",
              "   room_type_booked_code  roomnights  season_holidayed_code  \\\n",
              "0                      3           1                    2.0   \n",
              "1                      4           5                    2.0   \n",
              "2                      4           4                    2.0   \n",
              "3                      3           5                    2.0   \n",
              "4                      4           5                    2.0   \n",
              "\n",
              "   state_code_residence  state_code_resort  total_pax member_age_buckets  \\\n",
              "0                   7.0                  3          3                  F   \n",
              "1                   7.0                  5          2                  F   \n",
              "2                   7.0                  1          2                  F   \n",
              "3                   7.0                  2          2                  F   \n",
              "4                   7.0                  2          2                  F   \n",
              "\n",
              "   booking_type_code                                           memberid  \\\n",
              "0                  1  3d1539e56495b6991f0a3ef5a61ca3d03ce4fff7380e9a...   \n",
              "1                  1  3d1539e56495b6991f0a3ef5a61ca3d03ce4fff7380e9a...   \n",
              "2                  1  3d1539e56495b6991f0a3ef5a61ca3d03ce4fff7380e9a...   \n",
              "3                  1  3d1539e56495b6991f0a3ef5a61ca3d03ce4fff7380e9a...   \n",
              "4                  1  3d1539e56495b6991f0a3ef5a61ca3d03ce4fff7380e9a...   \n",
              "\n",
              "  cluster_code reservationstatusid_code  \\\n",
              "0            F                        C   \n",
              "1            F                        A   \n",
              "2            E                        A   \n",
              "3            D                        A   \n",
              "4            D                        A   \n",
              "\n",
              "                                           resort_id  \\\n",
              "0  4e07408562bedb8b60ce05c1decfe3ad16b72230967de0...   \n",
              "1  39fa9ec190eee7b6f4dff1100d6343e10918d044c75eac...   \n",
              "2  535fa30d7e25dd8a49f1536779734ec8286108d115da50...   \n",
              "3  d4735e3a265e16eee03f59718b9b5d03019c07d8b6c51f...   \n",
              "4  d4735e3a265e16eee03f59718b9b5d03019c07d8b6c51f...   \n",
              "\n",
              "   amount_spent_per_room_night_scaled  amount_spent_range  amount_spent_low  \\\n",
              "0                            7.706428                   1                 0   \n",
              "1                            6.662563                   1                 0   \n",
              "2                            7.871602                   1                 0   \n",
              "3                            5.344943                   0                 1   \n",
              "4                            7.059346                   1                 0   \n",
              "\n",
              "   amount_spent_average  amount_spent_high  HCChan  \n",
              "0                     1                  0       0  \n",
              "1                     1                  0       1  \n",
              "2                     1                  0       1  \n",
              "3                     0                  0       1  \n",
              "4                     1                  0       1  "
            ]
          },
          "execution_count": 52,
          "metadata": {
            "tags": []
          },
          "output_type": "execute_result"
        }
      ],
      "source": [
        "df_train_copy.head()"
      ]
    },
    {
      "cell_type": "code",
      "execution_count": null,
      "metadata": {
        "id": "9KJmYAF-e1QE",
        "vscode": {
          "languageId": "python"
        }
      },
      "outputs": [],
      "source": [
        "df_train_copy_two = df_train_copy"
      ]
    },
    {
      "cell_type": "code",
      "execution_count": null,
      "metadata": {
        "id": "qhT0g3rhfEZc",
        "vscode": {
          "languageId": "python"
        }
      },
      "outputs": [],
      "source": [
        "df_try = df_train_copy_two.loc[df_train_copy_two['amount_spent_per_room_night_scaled']<=5.999999]"
      ]
    },
    {
      "cell_type": "code",
      "execution_count": null,
      "metadata": {
        "id": "Igb4dTbRfe7P",
        "vscode": {
          "languageId": "python"
        }
      },
      "outputs": [],
      "source": [
        "df_train_copy_two = df_train_copy_two.append([df_try]*5,ignore_index=True)"
      ]
    },
    {
      "cell_type": "code",
      "execution_count": null,
      "metadata": {
        "colab": {
          "base_uri": "https://localhost:8080/",
          "height": 403
        },
        "id": "hf_MyzVEb5-N",
        "outputId": "0852757a-6c8c-41a9-b7cf-8416829d85ac",
        "vscode": {
          "languageId": "python"
        }
      },
      "outputs": [
        {
          "name": "stderr",
          "output_type": "stream",
          "text": [
            "/usr/local/lib/python3.6/dist-packages/seaborn/axisgrid.py:230: UserWarning: The `size` paramter has been renamed to `height`; please update your code.\n",
            "  warnings.warn(msg, UserWarning)\n"
          ]
        },
        {
          "data": {
            "image/png": "[encoded data removed]",
            "text/plain": [
              "<Figure size 473.375x360 with 1 Axes>"
            ]
          },
          "metadata": {
            "tags": []
          },
          "output_type": "display_data"
        }
      ],
      "source": [
        "#Histogram and PDF Analysis\n",
        "sns.FacetGrid(df_train_copy, hue=\"amount_spent_range\", size=5).map(sns.distplot, \"main_product_code\").add_legend()\n",
        "plt.show();"
      ]
    },
    {
      "cell_type": "code",
      "execution_count": null,
      "metadata": {
        "colab": {
          "base_uri": "https://localhost:8080/",
          "height": 403
        },
        "id": "gJT5hLxUdQKX",
        "outputId": "9016c0cb-17be-4398-cf84-c543c2937689",
        "vscode": {
          "languageId": "python"
        }
      },
      "outputs": [
        {
          "name": "stderr",
          "output_type": "stream",
          "text": [
            "/usr/local/lib/python3.6/dist-packages/seaborn/axisgrid.py:230: UserWarning: The `size` paramter has been renamed to `height`; please update your code.\n",
            "  warnings.warn(msg, UserWarning)\n"
          ]
        },
        {
          "data": {
            "image/png": "[encoded data removed]",
            "text/plain": [
              "<Figure size 461.25x360 with 1 Axes>"
            ]
          },
          "metadata": {
            "tags": []
          },
          "output_type": "display_data"
        }
      ],
      "source": [
        "#Histogram and PDF Analysis\n",
        "sns.FacetGrid(df_train_copy, hue=\"amount_spent_low\", size=5).map(sns.distplot, \"main_product_code\").add_legend()\n",
        "plt.show();"
      ]
    },
    {
      "cell_type": "code",
      "execution_count": null,
      "metadata": {
        "colab": {
          "base_uri": "https://localhost:8080/",
          "height": 403
        },
        "id": "tdm-5WAbduA3",
        "outputId": "bc3aab73-26e3-4e60-8956-31d791afb898",
        "vscode": {
          "languageId": "python"
        }
      },
      "outputs": [
        {
          "name": "stderr",
          "output_type": "stream",
          "text": [
            "/usr/local/lib/python3.6/dist-packages/seaborn/axisgrid.py:230: UserWarning: The `size` paramter has been renamed to `height`; please update your code.\n",
            "  warnings.warn(msg, UserWarning)\n"
          ]
        },
        {
          "data": {
            "image/png": "[encoded data removed]",
            "text/plain": [
              "<Figure size 485.125x360 with 1 Axes>"
            ]
          },
          "metadata": {
            "tags": []
          },
          "output_type": "display_data"
        }
      ],
      "source": [
        "#Histogram and PDF Analysis\n",
        "sns.FacetGrid(df_train_copy, hue=\"amount_spent_average\", size=5).map(sns.distplot, \"main_product_code\").add_legend()\n",
        "plt.show();"
      ]
    },
    {
      "cell_type": "code",
      "execution_count": null,
      "metadata": {
        "colab": {
          "base_uri": "https://localhost:8080/",
          "height": 85
        },
        "id": "6UNLHkegiBxh",
        "outputId": "a04394f3-54c7-49a3-ef6e-4d98a54bfbb5",
        "vscode": {
          "languageId": "python"
        }
      },
      "outputs": [
        {
          "name": "stdout",
          "output_type": "stream",
          "text": [
            "product code 2:\n",
            "1    165447\n",
            "0     12168\n",
            "Name: amount_spent_range, dtype: int64\n"
          ]
        }
      ],
      "source": [
        "print(\"product code 2:\")\n",
        "print(df_train_copy['amount_spent_range'].loc[df_train_copy['main_product_code']==2].value_counts())"
      ]
    },
    {
      "cell_type": "code",
      "execution_count": null,
      "metadata": {
        "colab": {
          "base_uri": "https://localhost:8080/",
          "height": 403
        },
        "id": "ML9GCTjvd1Wc",
        "outputId": "72dd6f2a-c37c-4c32-dee4-76e46c8957ce",
        "vscode": {
          "languageId": "python"
        }
      },
      "outputs": [
        {
          "name": "stderr",
          "output_type": "stream",
          "text": [
            "/usr/local/lib/python3.6/dist-packages/seaborn/axisgrid.py:230: UserWarning: The `size` paramter has been renamed to `height`; please update your code.\n",
            "  warnings.warn(msg, UserWarning)\n"
          ]
        },
        {
          "data": {
            "image/png": "[encoded data removed]",
            "text/plain": [
              "<Figure size 466.25x360 with 1 Axes>"
            ]
          },
          "metadata": {
            "tags": []
          },
          "output_type": "display_data"
        }
      ],
      "source": [
        "#Histogram and PDF Analysis\n",
        "sns.FacetGrid(df_train_copy, hue=\"amount_spent_high\", size=5).map(sns.distplot, \"main_product_code\").add_legend()\n",
        "plt.show();"
      ]
    },
    {
      "cell_type": "code",
      "execution_count": null,
      "metadata": {
        "id": "Kfn4I7_wh7Bx",
        "vscode": {
          "languageId": "python"
        }
      },
      "outputs": [],
      "source": [
        "df_train_copy['Prod_code'] = df_train_copy['main_product_code'].map(lambda s:1 if s<=2 else 0)"
      ]
    },
    {
      "cell_type": "code",
      "execution_count": null,
      "metadata": {
        "colab": {
          "base_uri": "https://localhost:8080/",
          "height": 403
        },
        "id": "yo_oxbuYfyvX",
        "outputId": "f63196c6-484c-47ac-df06-aa3a3a88d2ce",
        "vscode": {
          "languageId": "python"
        }
      },
      "outputs": [
        {
          "name": "stderr",
          "output_type": "stream",
          "text": [
            "/usr/local/lib/python3.6/dist-packages/seaborn/axisgrid.py:230: UserWarning: The `size` paramter has been renamed to `height`; please update your code.\n",
            "  warnings.warn(msg, UserWarning)\n"
          ]
        },
        {
          "data": {
            "image/png": "[encoded data removed]",
            "text/plain": [
              "<Figure size 473.375x360 with 1 Axes>"
            ]
          },
          "metadata": {
            "tags": []
          },
          "output_type": "display_data"
        }
      ],
      "source": [
        "sns.FacetGrid(df_train_copy, hue=\"amount_spent_range\",size=5).map(sns.distplot, \"numberofadults\").add_legend()\n",
        "plt.show();"
      ]
    },
    {
      "cell_type": "code",
      "execution_count": null,
      "metadata": {
        "colab": {
          "base_uri": "https://localhost:8080/",
          "height": 510
        },
        "id": "ZTsbwhO1rkzZ",
        "outputId": "c39f2ad8-c851-4ef5-844d-a081a4e6314f",
        "vscode": {
          "languageId": "python"
        }
      },
      "outputs": [
        {
          "name": "stdout",
          "output_type": "stream",
          "text": [
            "2     149414\n",
            "4      84468\n",
            "3      63247\n",
            "6      20052\n",
            "5       9849\n",
            "8       5198\n",
            "7       2673\n",
            "9       1445\n",
            "1       1280\n",
            "10      1256\n",
            "12      1010\n",
            "11       357\n",
            "16       293\n",
            "14       216\n",
            "15       207\n",
            "13       120\n",
            "24        83\n",
            "20        64\n",
            "18        62\n",
            "0         27\n",
            "17        20\n",
            "22        19\n",
            "19        12\n",
            "25        12\n",
            "21        11\n",
            "23        10\n",
            "32        10\n",
            "30         9\n",
            "Name: numberofadults, dtype: int64\n"
          ]
        }
      ],
      "source": [
        "print(df_train_copy[\"numberofadults\"].value_counts())"
      ]
    },
    {
      "cell_type": "code",
      "execution_count": null,
      "metadata": {
        "id": "namZ93nARNms",
        "vscode": {
          "languageId": "python"
        }
      },
      "outputs": [],
      "source": [
        "#df_train_copy = df_train_copy.loc[df_train_copy['numberofadults']>0]\n",
        "df_train_copy[\"reasonable_adult_count\"] = df_train_copy['numberofadults'].map(lambda s:1 if s>0 & s<=12 else 0)"
      ]
    },
    {
      "cell_type": "code",
      "execution_count": null,
      "metadata": {
        "colab": {
          "base_uri": "https://localhost:8080/",
          "height": 68
        },
        "id": "GBk2_Hf2aQXu",
        "outputId": "d213c36e-d27f-4fbc-d810-7b0515ee17b7",
        "vscode": {
          "languageId": "python"
        }
      },
      "outputs": [
        {
          "name": "stdout",
          "output_type": "stream",
          "text": [
            "1    340249\n",
            "0      1148\n",
            "Name: reasonable_adult_count, dtype: int64\n"
          ]
        }
      ],
      "source": [
        "print(df_train_copy[\"reasonable_adult_count\"].value_counts())"
      ]
    },
    {
      "cell_type": "code",
      "execution_count": null,
      "metadata": {
        "colab": {
          "base_uri": "https://localhost:8080/",
          "height": 403
        },
        "id": "AqAroJ6ySPOW",
        "outputId": "e88e7053-bcb6-4b57-d1fb-77520a7b019a",
        "vscode": {
          "languageId": "python"
        }
      },
      "outputs": [
        {
          "name": "stderr",
          "output_type": "stream",
          "text": [
            "/usr/local/lib/python3.6/dist-packages/seaborn/axisgrid.py:230: UserWarning: The `size` paramter has been renamed to `height`; please update your code.\n",
            "  warnings.warn(msg, UserWarning)\n"
          ]
        },
        {
          "data": {
            "image/png": "[encoded data removed]",
            "text/plain": [
              "<Figure size 473.375x360 with 1 Axes>"
            ]
          },
          "metadata": {
            "tags": []
          },
          "output_type": "display_data"
        }
      ],
      "source": [
        "sns.FacetGrid(df_train_copy, hue=\"amount_spent_range\",size=5).map(sns.distplot, \"reasonable_adult_count\").add_legend()\n",
        "plt.show();"
      ]
    },
    {
      "cell_type": "code",
      "execution_count": null,
      "metadata": {
        "id": "WGGd0xNhbm2f",
        "vscode": {
          "languageId": "python"
        }
      },
      "outputs": [],
      "source": [
        "df_train_couples = df_train_copy.loc[df_train_copy['numberofadults']==2]"
      ]
    },
    {
      "cell_type": "code",
      "execution_count": null,
      "metadata": {
        "colab": {
          "base_uri": "https://localhost:8080/",
          "height": 317
        },
        "id": "cAfK0re9cOKE",
        "outputId": "5bb67fb7-ca2e-4ede-e416-af26e33f4b57",
        "vscode": {
          "languageId": "python"
        }
      },
      "outputs": [
        {
          "data": {
            "text/html": [
              "<div>\n",
              "<style scoped>\n",
              "    .dataframe tbody tr th:only-of-type {\n",
              "        vertical-align: middle;\n",
              "    }\n",
              "\n",
              "    .dataframe tbody tr th {\n",
              "        vertical-align: top;\n",
              "    }\n",
              "\n",
              "    .dataframe thead th {\n",
              "        text-align: right;\n",
              "    }\n",
              "</style>\n",
              "<table border=\"1\" class=\"dataframe\">\n",
              "  <thead>\n",
              "    <tr style=\"text-align: right;\">\n",
              "      <th></th>\n",
              "      <th>channel_code</th>\n",
              "      <th>main_product_code</th>\n",
              "      <th>numberofadults</th>\n",
              "      <th>numberofchildren</th>\n",
              "      <th>persontravellingid</th>\n",
              "      <th>resort_region_code</th>\n",
              "      <th>resort_type_code</th>\n",
              "      <th>room_type_booked_code</th>\n",
              "      <th>roomnights</th>\n",
              "      <th>season_holidayed_code</th>\n",
              "      <th>state_code_residence</th>\n",
              "      <th>state_code_resort</th>\n",
              "      <th>total_pax</th>\n",
              "      <th>booking_type_code</th>\n",
              "      <th>amount_spent_per_room_night_scaled</th>\n",
              "      <th>reasonable_adult_count</th>\n",
              "      <th>amount_spent_range</th>\n",
              "    </tr>\n",
              "  </thead>\n",
              "  <tbody>\n",
              "    <tr>\n",
              "      <th>count</th>\n",
              "      <td>149414.000000</td>\n",
              "      <td>149414.000000</td>\n",
              "      <td>149414.0</td>\n",
              "      <td>149414.000000</td>\n",
              "      <td>149414.000000</td>\n",
              "      <td>149414.000000</td>\n",
              "      <td>149414.000000</td>\n",
              "      <td>149414.000000</td>\n",
              "      <td>149414.000000</td>\n",
              "      <td>149368.000000</td>\n",
              "      <td>147625.000000</td>\n",
              "      <td>149414.000000</td>\n",
              "      <td>149414.000000</td>\n",
              "      <td>149414.000000</td>\n",
              "      <td>149414.000000</td>\n",
              "      <td>149414.0</td>\n",
              "      <td>149414.000000</td>\n",
              "    </tr>\n",
              "    <tr>\n",
              "      <th>mean</th>\n",
              "      <td>1.786580</td>\n",
              "      <td>2.252419</td>\n",
              "      <td>2.0</td>\n",
              "      <td>0.485256</td>\n",
              "      <td>195.057076</td>\n",
              "      <td>1.784036</td>\n",
              "      <td>2.293600</td>\n",
              "      <td>3.046870</td>\n",
              "      <td>2.926205</td>\n",
              "      <td>2.700177</td>\n",
              "      <td>7.263194</td>\n",
              "      <td>4.714378</td>\n",
              "      <td>2.962728</td>\n",
              "      <td>1.116749</td>\n",
              "      <td>7.555553</td>\n",
              "      <td>1.0</td>\n",
              "      <td>0.767840</td>\n",
              "    </tr>\n",
              "    <tr>\n",
              "      <th>std</th>\n",
              "      <td>0.871214</td>\n",
              "      <td>0.821931</td>\n",
              "      <td>0.0</td>\n",
              "      <td>0.777655</td>\n",
              "      <td>826.038561</td>\n",
              "      <td>0.759605</td>\n",
              "      <td>1.632919</td>\n",
              "      <td>0.759189</td>\n",
              "      <td>1.534659</td>\n",
              "      <td>0.869087</td>\n",
              "      <td>4.741817</td>\n",
              "      <td>3.124038</td>\n",
              "      <td>1.014104</td>\n",
              "      <td>0.321123</td>\n",
              "      <td>1.015139</td>\n",
              "      <td>0.0</td>\n",
              "      <td>0.422212</td>\n",
              "    </tr>\n",
              "    <tr>\n",
              "      <th>min</th>\n",
              "      <td>1.000000</td>\n",
              "      <td>1.000000</td>\n",
              "      <td>2.0</td>\n",
              "      <td>0.000000</td>\n",
              "      <td>45.000000</td>\n",
              "      <td>1.000000</td>\n",
              "      <td>0.000000</td>\n",
              "      <td>1.000000</td>\n",
              "      <td>1.000000</td>\n",
              "      <td>1.000000</td>\n",
              "      <td>1.000000</td>\n",
              "      <td>1.000000</td>\n",
              "      <td>0.000000</td>\n",
              "      <td>1.000000</td>\n",
              "      <td>1.608938</td>\n",
              "      <td>1.0</td>\n",
              "      <td>0.000000</td>\n",
              "    </tr>\n",
              "    <tr>\n",
              "      <th>25%</th>\n",
              "      <td>1.000000</td>\n",
              "      <td>2.000000</td>\n",
              "      <td>2.0</td>\n",
              "      <td>0.000000</td>\n",
              "      <td>45.000000</td>\n",
              "      <td>1.000000</td>\n",
              "      <td>1.000000</td>\n",
              "      <td>3.000000</td>\n",
              "      <td>2.000000</td>\n",
              "      <td>2.000000</td>\n",
              "      <td>4.000000</td>\n",
              "      <td>2.000000</td>\n",
              "      <td>2.000000</td>\n",
              "      <td>1.000000</td>\n",
              "      <td>7.062002</td>\n",
              "      <td>1.0</td>\n",
              "      <td>1.000000</td>\n",
              "    </tr>\n",
              "    <tr>\n",
              "      <th>50%</th>\n",
              "      <td>1.000000</td>\n",
              "      <td>2.000000</td>\n",
              "      <td>2.0</td>\n",
              "      <td>0.000000</td>\n",
              "      <td>45.000000</td>\n",
              "      <td>2.000000</td>\n",
              "      <td>2.000000</td>\n",
              "      <td>3.000000</td>\n",
              "      <td>3.000000</td>\n",
              "      <td>3.000000</td>\n",
              "      <td>8.000000</td>\n",
              "      <td>5.000000</td>\n",
              "      <td>3.000000</td>\n",
              "      <td>1.000000</td>\n",
              "      <td>7.684977</td>\n",
              "      <td>1.0</td>\n",
              "      <td>1.000000</td>\n",
              "    </tr>\n",
              "    <tr>\n",
              "      <th>75%</th>\n",
              "      <td>3.000000</td>\n",
              "      <td>3.000000</td>\n",
              "      <td>2.0</td>\n",
              "      <td>1.000000</td>\n",
              "      <td>45.000000</td>\n",
              "      <td>2.000000</td>\n",
              "      <td>3.000000</td>\n",
              "      <td>4.000000</td>\n",
              "      <td>3.000000</td>\n",
              "      <td>3.000000</td>\n",
              "      <td>8.000000</td>\n",
              "      <td>7.000000</td>\n",
              "      <td>4.000000</td>\n",
              "      <td>1.000000</td>\n",
              "      <td>8.179914</td>\n",
              "      <td>1.0</td>\n",
              "      <td>1.000000</td>\n",
              "    </tr>\n",
              "    <tr>\n",
              "      <th>max</th>\n",
              "      <td>3.000000</td>\n",
              "      <td>7.000000</td>\n",
              "      <td>2.0</td>\n",
              "      <td>8.000000</td>\n",
              "      <td>4995.000000</td>\n",
              "      <td>3.000000</td>\n",
              "      <td>7.000000</td>\n",
              "      <td>6.000000</td>\n",
              "      <td>39.000000</td>\n",
              "      <td>4.000000</td>\n",
              "      <td>38.000000</td>\n",
              "      <td>13.000000</td>\n",
              "      <td>24.000000</td>\n",
              "      <td>2.000000</td>\n",
              "      <td>10.814540</td>\n",
              "      <td>1.0</td>\n",
              "      <td>1.000000</td>\n",
              "    </tr>\n",
              "  </tbody>\n",
              "</table>\n",
              "</div>"
            ],
            "text/plain": [
              "        channel_code  main_product_code  numberofadults  numberofchildren  \\\n",
              "count  149414.000000      149414.000000        149414.0     149414.000000   \n",
              "mean        1.786580           2.252419             2.0          0.485256   \n",
              "std         0.871214           0.821931             0.0          0.777655   \n",
              "min         1.000000           1.000000             2.0          0.000000   \n",
              "25%         1.000000           2.000000             2.0          0.000000   \n",
              "50%         1.000000           2.000000             2.0          0.000000   \n",
              "75%         3.000000           3.000000             2.0          1.000000   \n",
              "max         3.000000           7.000000             2.0          8.000000   \n",
              "\n",
              "       persontravellingid  resort_region_code  resort_type_code  \\\n",
              "count       149414.000000       149414.000000     149414.000000   \n",
              "mean           195.057076            1.784036          2.293600   \n",
              "std            826.038561            0.759605          1.632919   \n",
              "min             45.000000            1.000000          0.000000   \n",
              "25%             45.000000            1.000000          1.000000   \n",
              "50%             45.000000            2.000000          2.000000   \n",
              "75%             45.000000            2.000000          3.000000   \n",
              "max           4995.000000            3.000000          7.000000   \n",
              "\n",
              "       room_type_booked_code     roomnights  season_holidayed_code  \\\n",
              "count          149414.000000  149414.000000          149368.000000   \n",
              "mean                3.046870       2.926205               2.700177   \n",
              "std                 0.759189       1.534659               0.869087   \n",
              "min                 1.000000       1.000000               1.000000   \n",
              "25%                 3.000000       2.000000               2.000000   \n",
              "50%                 3.000000       3.000000               3.000000   \n",
              "75%                 4.000000       3.000000               3.000000   \n",
              "max                 6.000000      39.000000               4.000000   \n",
              "\n",
              "       state_code_residence  state_code_resort      total_pax  \\\n",
              "count         147625.000000      149414.000000  149414.000000   \n",
              "mean               7.263194           4.714378       2.962728   \n",
              "std                4.741817           3.124038       1.014104   \n",
              "min                1.000000           1.000000       0.000000   \n",
              "25%                4.000000           2.000000       2.000000   \n",
              "50%                8.000000           5.000000       3.000000   \n",
              "75%                8.000000           7.000000       4.000000   \n",
              "max               38.000000          13.000000      24.000000   \n",
              "\n",
              "       booking_type_code  amount_spent_per_room_night_scaled  \\\n",
              "count      149414.000000                       149414.000000   \n",
              "mean            1.116749                            7.555553   \n",
              "std             0.321123                            1.015139   \n",
              "min             1.000000                            1.608938   \n",
              "25%             1.000000                            7.062002   \n",
              "50%             1.000000                            7.684977   \n",
              "75%             1.000000                            8.179914   \n",
              "max             2.000000                           10.814540   \n",
              "\n",
              "       reasonable_adult_count  amount_spent_range  \n",
              "count                149414.0       149414.000000  \n",
              "mean                      1.0            0.767840  \n",
              "std                       0.0            0.422212  \n",
              "min                       1.0            0.000000  \n",
              "25%                       1.0            1.000000  \n",
              "50%                       1.0            1.000000  \n",
              "75%                       1.0            1.000000  \n",
              "max                       1.0            1.000000  "
            ]
          },
          "execution_count": 37,
          "metadata": {
            "tags": []
          },
          "output_type": "execute_result"
        }
      ],
      "source": [
        "df_train_couples.describe()"
      ]
    },
    {
      "cell_type": "code",
      "execution_count": null,
      "metadata": {
        "id": "xZ4WSrO_QaAx",
        "vscode": {
          "languageId": "python"
        }
      },
      "outputs": [],
      "source": [
        "df_train_copy['two_adults']=df_train_copy['numberofadults'].map(lambda s:1 if s==2 else 0)"
      ]
    },
    {
      "cell_type": "code",
      "execution_count": null,
      "metadata": {
        "colab": {
          "base_uri": "https://localhost:8080/",
          "height": 238
        },
        "id": "a_qa8CnFyfOW",
        "outputId": "ea44b3f3-4add-426e-99ec-39ad09aa04fb",
        "vscode": {
          "languageId": "python"
        }
      },
      "outputs": [
        {
          "name": "stdout",
          "output_type": "stream",
          "text": [
            "0     264250\n",
            "1      37766\n",
            "2      35164\n",
            "3       2137\n",
            "4       1658\n",
            "6        187\n",
            "5        181\n",
            "8         44\n",
            "7         20\n",
            "10        14\n",
            "12         2\n",
            "13         1\n",
            "Name: numberofchildren, dtype: int64\n"
          ]
        }
      ],
      "source": [
        "print(df_train_copy[\"numberofchildren\"].value_counts())"
      ]
    },
    {
      "cell_type": "code",
      "execution_count": null,
      "metadata": {
        "id": "xY30Fm4qyqJq",
        "vscode": {
          "languageId": "python"
        }
      },
      "outputs": [],
      "source": [
        "df_train_copy['children_count']=df_train_copy['numberofchildren'].map(lambda s:1 if s<=3 else 0)"
      ]
    },
    {
      "cell_type": "code",
      "execution_count": null,
      "metadata": {
        "colab": {
          "base_uri": "https://localhost:8080/",
          "height": 403
        },
        "id": "JooAJ1WHy73R",
        "outputId": "1ff82695-6bd0-447a-e116-b42b00686347",
        "vscode": {
          "languageId": "python"
        }
      },
      "outputs": [
        {
          "name": "stderr",
          "output_type": "stream",
          "text": [
            "/usr/local/lib/python3.6/dist-packages/seaborn/axisgrid.py:230: UserWarning: The `size` paramter has been renamed to `height`; please update your code.\n",
            "  warnings.warn(msg, UserWarning)\n"
          ]
        },
        {
          "data": {
            "image/png": "[encoded data removed]",
            "text/plain": [
              "<Figure size 473.375x360 with 1 Axes>"
            ]
          },
          "metadata": {
            "tags": []
          },
          "output_type": "display_data"
        }
      ],
      "source": [
        "sns.FacetGrid(df_train_copy, hue=\"amount_spent_range\",size=5).map(sns.distplot, \"children_count\").add_legend()\n",
        "plt.show();"
      ]
    },
    {
      "cell_type": "code",
      "execution_count": null,
      "metadata": {
        "id": "0A4oKMdFzOMP",
        "vscode": {
          "languageId": "python"
        }
      },
      "outputs": [],
      "source": [
        "df_train_copy['family_count'] = df_train['reasonable_adult_count']+ df_train['children_count']"
      ]
    },
    {
      "cell_type": "code",
      "execution_count": null,
      "metadata": {
        "colab": {
          "base_uri": "https://localhost:8080/",
          "height": 403
        },
        "id": "CLqgVTmL0Og7",
        "outputId": "a98ae8fc-1cf7-41b9-a983-af0578cbbcd3",
        "vscode": {
          "languageId": "python"
        }
      },
      "outputs": [
        {
          "name": "stderr",
          "output_type": "stream",
          "text": [
            "/usr/local/lib/python3.6/dist-packages/seaborn/axisgrid.py:230: UserWarning: The `size` paramter has been renamed to `height`; please update your code.\n",
            "  warnings.warn(msg, UserWarning)\n"
          ]
        },
        {
          "data": {
            "image/png": "[encoded data removed]",
            "text/plain": [
              "<Figure size 473.375x360 with 1 Axes>"
            ]
          },
          "metadata": {
            "tags": []
          },
          "output_type": "display_data"
        }
      ],
      "source": [
        "sns.FacetGrid(df_train_copy, hue=\"amount_spent_range\",size=5).map(sns.distplot, \"family_count\").add_legend()\n",
        "plt.show();"
      ]
    },
    {
      "cell_type": "code",
      "execution_count": null,
      "metadata": {
        "colab": {
          "base_uri": "https://localhost:8080/",
          "height": 136
        },
        "id": "jGuavfAl1Zie",
        "outputId": "4b2923d5-9e57-4b4a-c559-d7b3602b7202",
        "vscode": {
          "languageId": "python"
        }
      },
      "outputs": [
        {
          "data": {
            "text/plain": [
              "45      267307\n",
              "47       31580\n",
              "46       30569\n",
              "4752     10556\n",
              "4753      1391\n",
              "4995        21\n",
              "Name: persontravellingid, dtype: int64"
            ]
          },
          "execution_count": 137,
          "metadata": {
            "tags": []
          },
          "output_type": "execute_result"
        }
      ],
      "source": [
        "df_train_copy['persontravellingid'].value_counts()"
      ]
    },
    {
      "cell_type": "code",
      "execution_count": null,
      "metadata": {
        "id": "yNMi2-uv2Lzj",
        "vscode": {
          "languageId": "python"
        }
      },
      "outputs": [],
      "source": [
        "df_train_copy['persontravellingid'] = df_train_copy['persontravellingid'].replace({45:1, 46:2, 47:3, 4752:4, 4753:5, 4995:6 })"
      ]
    },
    {
      "cell_type": "code",
      "execution_count": null,
      "metadata": {
        "colab": {
          "base_uri": "https://localhost:8080/",
          "height": 136
        },
        "id": "ZyRQSZUh3ZsK",
        "outputId": "d1ce3c2e-43e9-4e5f-ce18-afbf3d532f67",
        "vscode": {
          "languageId": "python"
        }
      },
      "outputs": [
        {
          "data": {
            "text/plain": [
              "1    267307\n",
              "3     31580\n",
              "2     30569\n",
              "4     10556\n",
              "5      1391\n",
              "6        21\n",
              "Name: persontravellingid, dtype: int64"
            ]
          },
          "execution_count": 149,
          "metadata": {
            "tags": []
          },
          "output_type": "execute_result"
        }
      ],
      "source": [
        "df_train_copy['persontravellingid'].value_counts()"
      ]
    },
    {
      "cell_type": "code",
      "execution_count": null,
      "metadata": {
        "colab": {
          "base_uri": "https://localhost:8080/",
          "height": 403
        },
        "id": "ts2Einiw1pmJ",
        "outputId": "20e2f67b-70de-4eb5-b6cf-4c9d09f0a45d",
        "vscode": {
          "languageId": "python"
        }
      },
      "outputs": [
        {
          "name": "stderr",
          "output_type": "stream",
          "text": [
            "/usr/local/lib/python3.6/dist-packages/seaborn/axisgrid.py:230: UserWarning: The `size` paramter has been renamed to `height`; please update your code.\n",
            "  warnings.warn(msg, UserWarning)\n"
          ]
        },
        {
          "data": {
            "image/png": "[encoded data removed]",
            "text/plain": [
              "<Figure size 473.375x360 with 1 Axes>"
            ]
          },
          "metadata": {
            "tags": []
          },
          "output_type": "display_data"
        }
      ],
      "source": [
        "sns.FacetGrid(df_train_copy, hue=\"amount_spent_range\",size=5).map(sns.distplot, \"persontravellingid\").add_legend()\n",
        "plt.show();"
      ]
    },
    {
      "cell_type": "code",
      "execution_count": null,
      "metadata": {
        "colab": {
          "base_uri": "https://localhost:8080/",
          "height": 403
        },
        "id": "kpC-WRUy5goR",
        "outputId": "3c9befc4-7642-4105-cf9d-1516800e1cd3",
        "vscode": {
          "languageId": "python"
        }
      },
      "outputs": [
        {
          "name": "stderr",
          "output_type": "stream",
          "text": [
            "/usr/local/lib/python3.6/dist-packages/seaborn/axisgrid.py:230: UserWarning: The `size` paramter has been renamed to `height`; please update your code.\n",
            "  warnings.warn(msg, UserWarning)\n"
          ]
        },
        {
          "data": {
            "image/png": "[encoded data removed]",
            "text/plain": [
              "<Figure size 473.375x360 with 1 Axes>"
            ]
          },
          "metadata": {
            "tags": []
          },
          "output_type": "display_data"
        }
      ],
      "source": [
        "sns.FacetGrid(df_train_copy, hue=\"amount_spent_range\",size=5).map(sns.distplot, \"resort_region_code\").add_legend()\n",
        "plt.show();"
      ]
    },
    {
      "cell_type": "code",
      "execution_count": null,
      "metadata": {
        "colab": {
          "base_uri": "https://localhost:8080/",
          "height": 403
        },
        "id": "LRNmMMBe5yJO",
        "outputId": "044f2a7b-594a-4ebb-ee0b-9b0aeba3b423",
        "vscode": {
          "languageId": "python"
        }
      },
      "outputs": [
        {
          "name": "stderr",
          "output_type": "stream",
          "text": [
            "/usr/local/lib/python3.6/dist-packages/seaborn/axisgrid.py:230: UserWarning: The `size` paramter has been renamed to `height`; please update your code.\n",
            "  warnings.warn(msg, UserWarning)\n"
          ]
        },
        {
          "data": {
            "image/png": "[encoded data removed]",
            "text/plain": [
              "<Figure size 473.375x360 with 1 Axes>"
            ]
          },
          "metadata": {
            "tags": []
          },
          "output_type": "display_data"
        }
      ],
      "source": [
        "sns.FacetGrid(df_train_copy, hue=\"amount_spent_range\",size=5).map(sns.distplot, \"resort_type_code\").add_legend()\n",
        "plt.show();"
      ]
    },
    {
      "cell_type": "code",
      "execution_count": null,
      "metadata": {
        "colab": {
          "base_uri": "https://localhost:8080/",
          "height": 403
        },
        "id": "bUUBVb6-6FyW",
        "outputId": "7536253c-1cb7-4b2e-cb3b-25a187cbbbea",
        "vscode": {
          "languageId": "python"
        }
      },
      "outputs": [
        {
          "name": "stderr",
          "output_type": "stream",
          "text": [
            "/usr/local/lib/python3.6/dist-packages/seaborn/axisgrid.py:230: UserWarning: The `size` paramter has been renamed to `height`; please update your code.\n",
            "  warnings.warn(msg, UserWarning)\n"
          ]
        },
        {
          "data": {
            "image/png": "[encoded data removed]",
            "text/plain": [
              "<Figure size 473.375x360 with 1 Axes>"
            ]
          },
          "metadata": {
            "tags": []
          },
          "output_type": "display_data"
        }
      ],
      "source": [
        "sns.FacetGrid(df_train_copy, hue=\"amount_spent_range\",size=5).map(sns.distplot, \"room_type_booked_code\").add_legend()\n",
        "plt.show();"
      ]
    },
    {
      "cell_type": "code",
      "execution_count": null,
      "metadata": {
        "colab": {
          "base_uri": "https://localhost:8080/",
          "height": 782
        },
        "id": "mK0mZQ-86tbt",
        "outputId": "5c8a7fa7-ebe6-4d3a-cbbf-b875688c165d",
        "vscode": {
          "languageId": "python"
        }
      },
      "outputs": [
        {
          "data": {
            "text/plain": [
              " 3     94256\n",
              " 2     85105\n",
              " 4     58487\n",
              " 6     36932\n",
              " 1     25777\n",
              " 5     12303\n",
              " 8     10716\n",
              " 9      5107\n",
              " 12     3546\n",
              " 10     2912\n",
              " 7      2883\n",
              " 15      805\n",
              " 16      592\n",
              " 14      496\n",
              " 11      322\n",
              " 18      312\n",
              " 20      215\n",
              " 13      119\n",
              " 21       93\n",
              " 24       89\n",
              " 17       59\n",
              " 30       57\n",
              " 28       50\n",
              " 27       27\n",
              " 19       27\n",
              " 23       19\n",
              " 22       15\n",
              " 25       15\n",
              " 36       12\n",
              " 31       12\n",
              " 26       11\n",
              " 32        9\n",
              " 35        8\n",
              " 47        6\n",
              " 29        5\n",
              " 34        5\n",
              " 37        5\n",
              " 39        5\n",
              " 42        4\n",
              " 33        2\n",
              "-45        1\n",
              " 60        1\n",
              " 41        1\n",
              " 0         1\n",
              "Name: roomnights, dtype: int64"
            ]
          },
          "execution_count": 163,
          "metadata": {
            "tags": []
          },
          "output_type": "execute_result"
        }
      ],
      "source": [
        "df_train_copy['roomnights'].value_counts()"
      ]
    },
    {
      "cell_type": "code",
      "execution_count": null,
      "metadata": {
        "id": "QxPBgjtF9DhD",
        "vscode": {
          "languageId": "python"
        }
      },
      "outputs": [],
      "source": [
        "#df_train_couples = df_train_copy.loc[df_train_copy['numberofadults']==2]\n",
        "df_train_copy=df_train_copy.loc[df_train_copy['roomnights']>0]"
      ]
    },
    {
      "cell_type": "code",
      "execution_count": null,
      "metadata": {
        "colab": {
          "base_uri": "https://localhost:8080/",
          "height": 119
        },
        "id": "23z6kkll8_e3",
        "outputId": "67e3e9a6-cc6e-4e9e-9a22-c58f0cab8f60",
        "vscode": {
          "languageId": "python"
        }
      },
      "outputs": [
        {
          "name": "stderr",
          "output_type": "stream",
          "text": [
            "/usr/local/lib/python3.6/dist-packages/ipykernel_launcher.py:1: SettingWithCopyWarning: \n",
            "A value is trying to be set on a copy of a slice from a DataFrame.\n",
            "Try using .loc[row_indexer,col_indexer] = value instead\n",
            "\n",
            "See the caveats in the documentation: http://pandas.pydata.org/pandas-docs/stable/indexing.html#indexing-view-versus-copy\n",
            "  \"\"\"Entry point for launching an IPython kernel.\n"
          ]
        }
      ],
      "source": [
        "df_train_copy[\"roomnights_count\"] = df_train_copy['roomnights'].map(lambda s:1 if s<=8 else 0)"
      ]
    },
    {
      "cell_type": "code",
      "execution_count": null,
      "metadata": {
        "colab": {
          "base_uri": "https://localhost:8080/",
          "height": 403
        },
        "id": "aUhpNdH9-w3X",
        "outputId": "30e31e94-1485-4e80-ee74-cf695ce00df4",
        "vscode": {
          "languageId": "python"
        }
      },
      "outputs": [
        {
          "name": "stderr",
          "output_type": "stream",
          "text": [
            "/usr/local/lib/python3.6/dist-packages/seaborn/axisgrid.py:230: UserWarning: The `size` paramter has been renamed to `height`; please update your code.\n",
            "  warnings.warn(msg, UserWarning)\n"
          ]
        },
        {
          "data": {
            "image/png": "[encoded data removed]",
            "text/plain": [
              "<Figure size 473.375x360 with 1 Axes>"
            ]
          },
          "metadata": {
            "tags": []
          },
          "output_type": "display_data"
        }
      ],
      "source": [
        "sns.FacetGrid(df_train_copy, hue=\"amount_spent_range\",size=5).map(sns.distplot, \"season_holidayed_code\").add_legend()\n",
        "plt.show();"
      ]
    },
    {
      "cell_type": "code",
      "execution_count": null,
      "metadata": {
        "colab": {
          "base_uri": "https://localhost:8080/",
          "height": 663
        },
        "id": "SnEFqfJs_YfZ",
        "outputId": "e5390b7e-d7bb-4a40-9179-84c3a848de9d",
        "vscode": {
          "languageId": "python"
        }
      },
      "outputs": [
        {
          "data": {
            "text/plain": [
              "8.0     134917\n",
              "2.0      41143\n",
              "1.0      28040\n",
              "7.0      25873\n",
              "5.0      21051\n",
              "4.0      15938\n",
              "9.0      12291\n",
              "15.0      9490\n",
              "10.0      9356\n",
              "6.0       6384\n",
              "12.0      6092\n",
              "3.0       3943\n",
              "23.0      3835\n",
              "14.0      3132\n",
              "16.0      2371\n",
              "13.0      1771\n",
              "21.0      1694\n",
              "20.0      1470\n",
              "18.0      1429\n",
              "19.0      1085\n",
              "26.0      1068\n",
              "25.0       840\n",
              "27.0       790\n",
              "11.0       713\n",
              "28.0       541\n",
              "22.0       432\n",
              "24.0       382\n",
              "30.0       144\n",
              "29.0       101\n",
              "33.0        88\n",
              "31.0        60\n",
              "37.0        59\n",
              "32.0        53\n",
              "34.0        48\n",
              "35.0        16\n",
              "36.0        12\n",
              "38.0         6\n",
              "Name: state_code_residence, dtype: int64"
            ]
          },
          "execution_count": 178,
          "metadata": {
            "tags": []
          },
          "output_type": "execute_result"
        }
      ],
      "source": [
        "df_train_copy[\"state_code_residence\"].value_counts()"
      ]
    },
    {
      "cell_type": "code",
      "execution_count": null,
      "metadata": {
        "colab": {
          "base_uri": "https://localhost:8080/",
          "height": 403
        },
        "id": "64t-HTmp_vV8",
        "outputId": "69e62b33-72de-45e3-82af-cdefc2dd57b2",
        "vscode": {
          "languageId": "python"
        }
      },
      "outputs": [
        {
          "name": "stderr",
          "output_type": "stream",
          "text": [
            "/usr/local/lib/python3.6/dist-packages/seaborn/axisgrid.py:230: UserWarning: The `size` paramter has been renamed to `height`; please update your code.\n",
            "  warnings.warn(msg, UserWarning)\n"
          ]
        },
        {
          "data": {
            "image/png": "[encoded data removed]",
            "text/plain": [
              "<Figure size 473.375x360 with 1 Axes>"
            ]
          },
          "metadata": {
            "tags": []
          },
          "output_type": "display_data"
        }
      ],
      "source": [
        "sns.FacetGrid(df_train_copy, hue=\"amount_spent_range\",size=5).map(sns.distplot, \"state_code_residence\").add_legend()\n",
        "plt.show();"
      ]
    },
    {
      "cell_type": "code",
      "execution_count": null,
      "metadata": {
        "colab": {
          "base_uri": "https://localhost:8080/",
          "height": 221
        },
        "id": "T7J-hzSLBXrF",
        "outputId": "7ab2798c-f4b7-4c76-d8a4-9e79afcf9199",
        "vscode": {
          "languageId": "python"
        }
      },
      "outputs": [
        {
          "data": {
            "text/plain": [
              "1     59830\n",
              "2     55882\n",
              "6     50868\n",
              "7     37809\n",
              "3     33489\n",
              "5     32784\n",
              "9     28115\n",
              "11    18271\n",
              "4     14820\n",
              "10     5684\n",
              "13     3870\n",
              "Name: state_code_resort, dtype: int64"
            ]
          },
          "execution_count": 193,
          "metadata": {
            "tags": []
          },
          "output_type": "execute_result"
        }
      ],
      "source": [
        "df_train_copy['state_code_resort'].value_counts()"
      ]
    },
    {
      "cell_type": "code",
      "execution_count": null,
      "metadata": {
        "colab": {
          "base_uri": "https://localhost:8080/",
          "height": 403
        },
        "id": "GMZc7gdjBjyj",
        "outputId": "809762eb-1a3e-4e61-e213-4dae3ac6f493",
        "vscode": {
          "languageId": "python"
        }
      },
      "outputs": [
        {
          "name": "stderr",
          "output_type": "stream",
          "text": [
            "/usr/local/lib/python3.6/dist-packages/seaborn/axisgrid.py:230: UserWarning: The `size` paramter has been renamed to `height`; please update your code.\n",
            "  warnings.warn(msg, UserWarning)\n"
          ]
        },
        {
          "data": {
            "image/png": "[encoded data removed]",
            "text/plain": [
              "<Figure size 473.375x360 with 1 Axes>"
            ]
          },
          "metadata": {
            "tags": []
          },
          "output_type": "display_data"
        }
      ],
      "source": [
        "sns.FacetGrid(df_train_copy, hue=\"amount_spent_range\",size=5).map(sns.distplot, \"state_code_resort\").add_legend()\n",
        "plt.show();"
      ]
    },
    {
      "cell_type": "code",
      "execution_count": null,
      "metadata": {
        "colab": {
          "base_uri": "https://localhost:8080/",
          "height": 403
        },
        "id": "V86rX3QVCOAK",
        "outputId": "061a1080-8fea-4bab-d335-4379a4b95f9f",
        "vscode": {
          "languageId": "python"
        }
      },
      "outputs": [
        {
          "name": "stderr",
          "output_type": "stream",
          "text": [
            "/usr/local/lib/python3.6/dist-packages/seaborn/axisgrid.py:230: UserWarning: The `size` paramter has been renamed to `height`; please update your code.\n",
            "  warnings.warn(msg, UserWarning)\n"
          ]
        },
        {
          "data": {
            "image/png": "[encoded data removed]",
            "text/plain": [
              "<Figure size 473.375x360 with 1 Axes>"
            ]
          },
          "metadata": {
            "tags": []
          },
          "output_type": "display_data"
        }
      ],
      "source": [
        "sns.FacetGrid(df_train_copy, hue=\"amount_spent_range\",size=5).map(sns.distplot, \"total_pax\").add_legend()\n",
        "plt.show();"
      ]
    },
    {
      "cell_type": "code",
      "execution_count": null,
      "metadata": {
        "colab": {
          "base_uri": "https://localhost:8080/",
          "height": 340
        },
        "id": "byrqvxC9Chf2",
        "outputId": "ed63d79e-07dc-40fb-bf17-6ea99d6237d9",
        "vscode": {
          "languageId": "python"
        }
      },
      "outputs": [
        {
          "data": {
            "text/plain": [
              "2     106046\n",
              "3      98503\n",
              "4      97385\n",
              "5      20672\n",
              "6       8350\n",
              "1       5912\n",
              "7       3102\n",
              "8       1093\n",
              "9        229\n",
              "10        74\n",
              "11        18\n",
              "0         16\n",
              "12        13\n",
              "21         3\n",
              "13         2\n",
              "20         2\n",
              "14         1\n",
              "24         1\n",
              "Name: total_pax, dtype: int64"
            ]
          },
          "execution_count": 197,
          "metadata": {
            "tags": []
          },
          "output_type": "execute_result"
        }
      ],
      "source": [
        "df_train_copy['total_pax'].value_counts()"
      ]
    },
    {
      "cell_type": "code",
      "execution_count": null,
      "metadata": {
        "colab": {
          "base_uri": "https://localhost:8080/",
          "height": 403
        },
        "id": "DoxD1yjKDDmU",
        "outputId": "cb0a1b72-881b-42ba-bcd6-9090aeefd57d",
        "vscode": {
          "languageId": "python"
        }
      },
      "outputs": [
        {
          "name": "stderr",
          "output_type": "stream",
          "text": [
            "/usr/local/lib/python3.6/dist-packages/seaborn/axisgrid.py:230: UserWarning: The `size` paramter has been renamed to `height`; please update your code.\n",
            "  warnings.warn(msg, UserWarning)\n"
          ]
        },
        {
          "data": {
            "image/png": "[encoded data removed]",
            "text/plain": [
              "<Figure size 473.375x360 with 1 Axes>"
            ]
          },
          "metadata": {
            "tags": []
          },
          "output_type": "display_data"
        }
      ],
      "source": [
        "sns.FacetGrid(df_train_copy, hue=\"amount_spent_range\",size=5).map(sns.distplot, \"booking_type_code\").add_legend()\n",
        "plt.show();"
      ]
    },
    {
      "cell_type": "code",
      "execution_count": null,
      "metadata": {
        "colab": {
          "base_uri": "https://localhost:8080/",
          "height": 170
        },
        "id": "fEMsKL_LDL9W",
        "outputId": "ce98777c-85eb-4156-fbf2-c5ace572538b",
        "vscode": {
          "languageId": "python"
        }
      },
      "outputs": [
        {
          "name": "stdout",
          "output_type": "stream",
          "text": [
            "For booking type 1:\n",
            "1    237085\n",
            "0     61929\n",
            "Name: amount_spent_range, dtype: int64\n",
            "*************************************\n",
            "For booking type 2:\n",
            "1    34923\n",
            "0     7485\n",
            "Name: amount_spent_range, dtype: int64\n"
          ]
        }
      ],
      "source": [
        "print(\"For booking type 1:\")\n",
        "print(df_train_copy['amount_spent_range'].loc[df_train_copy['booking_type_code']==1].value_counts())\n",
        "print(\"*************************************\")\n",
        "print(\"For booking type 2:\")\n",
        "print(df_train_copy['amount_spent_range'].loc[df_train_copy['booking_type_code']==2].value_counts())\n"
      ]
    },
    {
      "cell_type": "code",
      "execution_count": null,
      "metadata": {
        "id": "0X-SpRAeAMOh",
        "vscode": {
          "languageId": "python"
        }
      },
      "outputs": [],
      "source": [
        "df_train_copy_one = df_train_copy.drop(['state_code_residence'],axis=1)"
      ]
    },
    {
      "cell_type": "markdown",
      "metadata": {
        "id": "br-nXPDHJrs-"
      },
      "source": [
        "Analysis"
      ]
    },
    {
      "cell_type": "code",
      "execution_count": null,
      "metadata": {
        "id": "Biw6-mpENGuk",
        "vscode": {
          "languageId": "python"
        }
      },
      "outputs": [],
      "source": [
        "df_test = pd.read_csv('/content/drive/My Drive/AV_Mahindra_Club/test.csv') "
      ]
    },
    {
      "cell_type": "code",
      "execution_count": null,
      "metadata": {
        "colab": {
          "base_uri": "https://localhost:8080/",
          "height": 253
        },
        "id": "FF8omz2lN9B0",
        "outputId": "74749628-6a5d-49bb-fa78-d43c1dc3737b",
        "vscode": {
          "languageId": "python"
        }
      },
      "outputs": [
        {
          "data": {
            "text/html": [
              "<div>\n",
              "<style scoped>\n",
              "    .dataframe tbody tr th:only-of-type {\n",
              "        vertical-align: middle;\n",
              "    }\n",
              "\n",
              "    .dataframe tbody tr th {\n",
              "        vertical-align: top;\n",
              "    }\n",
              "\n",
              "    .dataframe thead th {\n",
              "        text-align: right;\n",
              "    }\n",
              "</style>\n",
              "<table border=\"1\" class=\"dataframe\">\n",
              "  <thead>\n",
              "    <tr style=\"text-align: right;\">\n",
              "      <th></th>\n",
              "      <th>reservation_id</th>\n",
              "      <th>booking_date</th>\n",
              "      <th>checkin_date</th>\n",
              "      <th>checkout_date</th>\n",
              "      <th>channel_code</th>\n",
              "      <th>main_product_code</th>\n",
              "      <th>numberofadults</th>\n",
              "      <th>numberofchildren</th>\n",
              "      <th>persontravellingid</th>\n",
              "      <th>resort_region_code</th>\n",
              "      <th>...</th>\n",
              "      <th>season_holidayed_code</th>\n",
              "      <th>state_code_residence</th>\n",
              "      <th>state_code_resort</th>\n",
              "      <th>total_pax</th>\n",
              "      <th>member_age_buckets</th>\n",
              "      <th>booking_type_code</th>\n",
              "      <th>memberid</th>\n",
              "      <th>cluster_code</th>\n",
              "      <th>reservationstatusid_code</th>\n",
              "      <th>resort_id</th>\n",
              "    </tr>\n",
              "  </thead>\n",
              "  <tbody>\n",
              "    <tr>\n",
              "      <th>0</th>\n",
              "      <td>7dae1ce6bc8f69481328f2be5c4943077dad5598b5f66d...</td>\n",
              "      <td>05/04/18</td>\n",
              "      <td>05/04/18</td>\n",
              "      <td>06/04/18</td>\n",
              "      <td>3</td>\n",
              "      <td>2</td>\n",
              "      <td>2</td>\n",
              "      <td>0</td>\n",
              "      <td>45</td>\n",
              "      <td>3</td>\n",
              "      <td>...</td>\n",
              "      <td>2.0</td>\n",
              "      <td>2.0</td>\n",
              "      <td>3</td>\n",
              "      <td>3</td>\n",
              "      <td>H</td>\n",
              "      <td>1</td>\n",
              "      <td>2114944930dcc42ce5b9b50ae965cf8a9c04e46be63d84...</td>\n",
              "      <td>A</td>\n",
              "      <td>C</td>\n",
              "      <td>9f14025af0065b30e47e23ebb3b491d39ae8ed17d33739...</td>\n",
              "    </tr>\n",
              "    <tr>\n",
              "      <th>1</th>\n",
              "      <td>fe0d4e444e1818436c88f72f1cf800536c2f785e59baeb...</td>\n",
              "      <td>24/05/15</td>\n",
              "      <td>23/06/15</td>\n",
              "      <td>27/06/15</td>\n",
              "      <td>1</td>\n",
              "      <td>2</td>\n",
              "      <td>4</td>\n",
              "      <td>0</td>\n",
              "      <td>45</td>\n",
              "      <td>1</td>\n",
              "      <td>...</td>\n",
              "      <td>2.0</td>\n",
              "      <td>2.0</td>\n",
              "      <td>4</td>\n",
              "      <td>2</td>\n",
              "      <td>H</td>\n",
              "      <td>1</td>\n",
              "      <td>2114944930dcc42ce5b9b50ae965cf8a9c04e46be63d84...</td>\n",
              "      <td>F</td>\n",
              "      <td>A</td>\n",
              "      <td>e7f6c011776e8db7cd330b54174fd76f7d0216b612387a...</td>\n",
              "    </tr>\n",
              "    <tr>\n",
              "      <th>2</th>\n",
              "      <td>540bd4285ad8168e8388f84ee74a82cd4f97dc0a404d3e...</td>\n",
              "      <td>21/07/15</td>\n",
              "      <td>07/08/15</td>\n",
              "      <td>10/08/15</td>\n",
              "      <td>3</td>\n",
              "      <td>2</td>\n",
              "      <td>3</td>\n",
              "      <td>0</td>\n",
              "      <td>45</td>\n",
              "      <td>2</td>\n",
              "      <td>...</td>\n",
              "      <td>4.0</td>\n",
              "      <td>2.0</td>\n",
              "      <td>2</td>\n",
              "      <td>3</td>\n",
              "      <td>H</td>\n",
              "      <td>1</td>\n",
              "      <td>2114944930dcc42ce5b9b50ae965cf8a9c04e46be63d84...</td>\n",
              "      <td>D</td>\n",
              "      <td>A</td>\n",
              "      <td>d4735e3a265e16eee03f59718b9b5d03019c07d8b6c51f...</td>\n",
              "    </tr>\n",
              "    <tr>\n",
              "      <th>3</th>\n",
              "      <td>09593c907ae262e46f655b4db9e14f54a19eadcfdd2679...</td>\n",
              "      <td>31/07/15</td>\n",
              "      <td>22/10/15</td>\n",
              "      <td>25/10/15</td>\n",
              "      <td>1</td>\n",
              "      <td>2</td>\n",
              "      <td>3</td>\n",
              "      <td>0</td>\n",
              "      <td>45</td>\n",
              "      <td>1</td>\n",
              "      <td>...</td>\n",
              "      <td>2.0</td>\n",
              "      <td>2.0</td>\n",
              "      <td>6</td>\n",
              "      <td>3</td>\n",
              "      <td>H</td>\n",
              "      <td>1</td>\n",
              "      <td>2114944930dcc42ce5b9b50ae965cf8a9c04e46be63d84...</td>\n",
              "      <td>F</td>\n",
              "      <td>A</td>\n",
              "      <td>49d180ecf56132819571bf39d9b7b342522a2ac6d23c14...</td>\n",
              "    </tr>\n",
              "    <tr>\n",
              "      <th>4</th>\n",
              "      <td>f4c50caac68051faf37551d70bb17eebef2a20e2244cb1...</td>\n",
              "      <td>01/07/16</td>\n",
              "      <td>01/10/16</td>\n",
              "      <td>05/10/16</td>\n",
              "      <td>1</td>\n",
              "      <td>2</td>\n",
              "      <td>4</td>\n",
              "      <td>0</td>\n",
              "      <td>45</td>\n",
              "      <td>1</td>\n",
              "      <td>...</td>\n",
              "      <td>2.0</td>\n",
              "      <td>2.0</td>\n",
              "      <td>11</td>\n",
              "      <td>2</td>\n",
              "      <td>H</td>\n",
              "      <td>1</td>\n",
              "      <td>2114944930dcc42ce5b9b50ae965cf8a9c04e46be63d84...</td>\n",
              "      <td>F</td>\n",
              "      <td>A</td>\n",
              "      <td>e29c9c180c6279b0b02abd6a1801c7c04082cf486ec027...</td>\n",
              "    </tr>\n",
              "  </tbody>\n",
              "</table>\n",
              "<p>5 rows × 23 columns</p>\n",
              "</div>"
            ],
            "text/plain": [
              "                                      reservation_id booking_date  \\\n",
              "0  7dae1ce6bc8f69481328f2be5c4943077dad5598b5f66d...     05/04/18   \n",
              "1  fe0d4e444e1818436c88f72f1cf800536c2f785e59baeb...     24/05/15   \n",
              "2  540bd4285ad8168e8388f84ee74a82cd4f97dc0a404d3e...     21/07/15   \n",
              "3  09593c907ae262e46f655b4db9e14f54a19eadcfdd2679...     31/07/15   \n",
              "4  f4c50caac68051faf37551d70bb17eebef2a20e2244cb1...     01/07/16   \n",
              "\n",
              "  checkin_date checkout_date  channel_code  main_product_code  numberofadults  \\\n",
              "0     05/04/18      06/04/18             3                  2               2   \n",
              "1     23/06/15      27/06/15             1                  2               4   \n",
              "2     07/08/15      10/08/15             3                  2               3   \n",
              "3     22/10/15      25/10/15             1                  2               3   \n",
              "4     01/10/16      05/10/16             1                  2               4   \n",
              "\n",
              "   numberofchildren  persontravellingid  resort_region_code  ...  \\\n",
              "0                 0                  45                   3  ...   \n",
              "1                 0                  45                   1  ...   \n",
              "2                 0                  45                   2  ...   \n",
              "3                 0                  45                   1  ...   \n",
              "4                 0                  45                   1  ...   \n",
              "\n",
              "   season_holidayed_code  state_code_residence  state_code_resort  total_pax  \\\n",
              "0                    2.0                   2.0                  3          3   \n",
              "1                    2.0                   2.0                  4          2   \n",
              "2                    4.0                   2.0                  2          3   \n",
              "3                    2.0                   2.0                  6          3   \n",
              "4                    2.0                   2.0                 11          2   \n",
              "\n",
              "   member_age_buckets  booking_type_code  \\\n",
              "0                   H                  1   \n",
              "1                   H                  1   \n",
              "2                   H                  1   \n",
              "3                   H                  1   \n",
              "4                   H                  1   \n",
              "\n",
              "                                            memberid cluster_code  \\\n",
              "0  2114944930dcc42ce5b9b50ae965cf8a9c04e46be63d84...            A   \n",
              "1  2114944930dcc42ce5b9b50ae965cf8a9c04e46be63d84...            F   \n",
              "2  2114944930dcc42ce5b9b50ae965cf8a9c04e46be63d84...            D   \n",
              "3  2114944930dcc42ce5b9b50ae965cf8a9c04e46be63d84...            F   \n",
              "4  2114944930dcc42ce5b9b50ae965cf8a9c04e46be63d84...            F   \n",
              "\n",
              "   reservationstatusid_code                                          resort_id  \n",
              "0                         C  9f14025af0065b30e47e23ebb3b491d39ae8ed17d33739...  \n",
              "1                         A  e7f6c011776e8db7cd330b54174fd76f7d0216b612387a...  \n",
              "2                         A  d4735e3a265e16eee03f59718b9b5d03019c07d8b6c51f...  \n",
              "3                         A  49d180ecf56132819571bf39d9b7b342522a2ac6d23c14...  \n",
              "4                         A  e29c9c180c6279b0b02abd6a1801c7c04082cf486ec027...  \n",
              "\n",
              "[5 rows x 23 columns]"
            ]
          },
          "execution_count": 4,
          "metadata": {
            "tags": []
          },
          "output_type": "execute_result"
        }
      ],
      "source": [
        "df_test.head()"
      ]
    },
    {
      "cell_type": "code",
      "execution_count": null,
      "metadata": {
        "colab": {
          "base_uri": "https://localhost:8080/",
          "height": 317
        },
        "id": "R1EILUEJhBSB",
        "outputId": "6e17247d-692c-4291-90f4-94b4936cb0be",
        "vscode": {
          "languageId": "python"
        }
      },
      "outputs": [
        {
          "data": {
            "text/html": [
              "<div>\n",
              "<style scoped>\n",
              "    .dataframe tbody tr th:only-of-type {\n",
              "        vertical-align: middle;\n",
              "    }\n",
              "\n",
              "    .dataframe tbody tr th {\n",
              "        vertical-align: top;\n",
              "    }\n",
              "\n",
              "    .dataframe thead th {\n",
              "        text-align: right;\n",
              "    }\n",
              "</style>\n",
              "<table border=\"1\" class=\"dataframe\">\n",
              "  <thead>\n",
              "    <tr style=\"text-align: right;\">\n",
              "      <th></th>\n",
              "      <th>channel_code</th>\n",
              "      <th>main_product_code</th>\n",
              "      <th>numberofadults</th>\n",
              "      <th>numberofchildren</th>\n",
              "      <th>persontravellingid</th>\n",
              "      <th>resort_region_code</th>\n",
              "      <th>resort_type_code</th>\n",
              "      <th>room_type_booked_code</th>\n",
              "      <th>roomnights</th>\n",
              "      <th>season_holidayed_code</th>\n",
              "      <th>state_code_residence</th>\n",
              "      <th>state_code_resort</th>\n",
              "      <th>total_pax</th>\n",
              "      <th>booking_type_code</th>\n",
              "    </tr>\n",
              "  </thead>\n",
              "  <tbody>\n",
              "    <tr>\n",
              "      <th>count</th>\n",
              "      <td>146765.000000</td>\n",
              "      <td>146765.000000</td>\n",
              "      <td>146765.000000</td>\n",
              "      <td>146765.000000</td>\n",
              "      <td>146765.000000</td>\n",
              "      <td>146765.000000</td>\n",
              "      <td>146765.000000</td>\n",
              "      <td>146765.000000</td>\n",
              "      <td>146765.000000</td>\n",
              "      <td>146730.000000</td>\n",
              "      <td>144505.000000</td>\n",
              "      <td>146765.000000</td>\n",
              "      <td>146765.000000</td>\n",
              "      <td>146765.000000</td>\n",
              "    </tr>\n",
              "    <tr>\n",
              "      <th>mean</th>\n",
              "      <td>1.902068</td>\n",
              "      <td>2.204483</td>\n",
              "      <td>3.275897</td>\n",
              "      <td>0.362287</td>\n",
              "      <td>209.179852</td>\n",
              "      <td>1.774101</td>\n",
              "      <td>2.196675</td>\n",
              "      <td>2.888754</td>\n",
              "      <td>3.730372</td>\n",
              "      <td>2.681088</td>\n",
              "      <td>7.254206</td>\n",
              "      <td>4.750560</td>\n",
              "      <td>3.188410</td>\n",
              "      <td>1.123354</td>\n",
              "    </tr>\n",
              "    <tr>\n",
              "      <th>std</th>\n",
              "      <td>0.914653</td>\n",
              "      <td>0.817804</td>\n",
              "      <td>1.783842</td>\n",
              "      <td>0.758218</td>\n",
              "      <td>862.926844</td>\n",
              "      <td>0.753281</td>\n",
              "      <td>1.544679</td>\n",
              "      <td>0.804043</td>\n",
              "      <td>2.482388</td>\n",
              "      <td>0.882366</td>\n",
              "      <td>4.755982</td>\n",
              "      <td>3.101036</td>\n",
              "      <td>1.163872</td>\n",
              "      <td>0.328844</td>\n",
              "    </tr>\n",
              "    <tr>\n",
              "      <th>min</th>\n",
              "      <td>1.000000</td>\n",
              "      <td>1.000000</td>\n",
              "      <td>0.000000</td>\n",
              "      <td>0.000000</td>\n",
              "      <td>45.000000</td>\n",
              "      <td>1.000000</td>\n",
              "      <td>0.000000</td>\n",
              "      <td>1.000000</td>\n",
              "      <td>0.000000</td>\n",
              "      <td>1.000000</td>\n",
              "      <td>1.000000</td>\n",
              "      <td>1.000000</td>\n",
              "      <td>0.000000</td>\n",
              "      <td>1.000000</td>\n",
              "    </tr>\n",
              "    <tr>\n",
              "      <th>25%</th>\n",
              "      <td>1.000000</td>\n",
              "      <td>2.000000</td>\n",
              "      <td>2.000000</td>\n",
              "      <td>0.000000</td>\n",
              "      <td>45.000000</td>\n",
              "      <td>1.000000</td>\n",
              "      <td>1.000000</td>\n",
              "      <td>2.000000</td>\n",
              "      <td>2.000000</td>\n",
              "      <td>2.000000</td>\n",
              "      <td>4.000000</td>\n",
              "      <td>2.000000</td>\n",
              "      <td>2.000000</td>\n",
              "      <td>1.000000</td>\n",
              "    </tr>\n",
              "    <tr>\n",
              "      <th>50%</th>\n",
              "      <td>2.000000</td>\n",
              "      <td>2.000000</td>\n",
              "      <td>3.000000</td>\n",
              "      <td>0.000000</td>\n",
              "      <td>45.000000</td>\n",
              "      <td>2.000000</td>\n",
              "      <td>2.000000</td>\n",
              "      <td>3.000000</td>\n",
              "      <td>3.000000</td>\n",
              "      <td>3.000000</td>\n",
              "      <td>8.000000</td>\n",
              "      <td>5.000000</td>\n",
              "      <td>3.000000</td>\n",
              "      <td>1.000000</td>\n",
              "    </tr>\n",
              "    <tr>\n",
              "      <th>75%</th>\n",
              "      <td>3.000000</td>\n",
              "      <td>3.000000</td>\n",
              "      <td>4.000000</td>\n",
              "      <td>0.000000</td>\n",
              "      <td>45.000000</td>\n",
              "      <td>2.000000</td>\n",
              "      <td>3.000000</td>\n",
              "      <td>3.000000</td>\n",
              "      <td>4.000000</td>\n",
              "      <td>3.000000</td>\n",
              "      <td>8.000000</td>\n",
              "      <td>7.000000</td>\n",
              "      <td>4.000000</td>\n",
              "      <td>1.000000</td>\n",
              "    </tr>\n",
              "    <tr>\n",
              "      <th>max</th>\n",
              "      <td>3.000000</td>\n",
              "      <td>7.000000</td>\n",
              "      <td>32.000000</td>\n",
              "      <td>10.000000</td>\n",
              "      <td>4995.000000</td>\n",
              "      <td>3.000000</td>\n",
              "      <td>7.000000</td>\n",
              "      <td>6.000000</td>\n",
              "      <td>80.000000</td>\n",
              "      <td>4.000000</td>\n",
              "      <td>38.000000</td>\n",
              "      <td>13.000000</td>\n",
              "      <td>21.000000</td>\n",
              "      <td>2.000000</td>\n",
              "    </tr>\n",
              "  </tbody>\n",
              "</table>\n",
              "</div>"
            ],
            "text/plain": [
              "        channel_code  main_product_code  numberofadults  numberofchildren  \\\n",
              "count  146765.000000      146765.000000   146765.000000     146765.000000   \n",
              "mean        1.902068           2.204483        3.275897          0.362287   \n",
              "std         0.914653           0.817804        1.783842          0.758218   \n",
              "min         1.000000           1.000000        0.000000          0.000000   \n",
              "25%         1.000000           2.000000        2.000000          0.000000   \n",
              "50%         2.000000           2.000000        3.000000          0.000000   \n",
              "75%         3.000000           3.000000        4.000000          0.000000   \n",
              "max         3.000000           7.000000       32.000000         10.000000   \n",
              "\n",
              "       persontravellingid  resort_region_code  resort_type_code  \\\n",
              "count       146765.000000       146765.000000     146765.000000   \n",
              "mean           209.179852            1.774101          2.196675   \n",
              "std            862.926844            0.753281          1.544679   \n",
              "min             45.000000            1.000000          0.000000   \n",
              "25%             45.000000            1.000000          1.000000   \n",
              "50%             45.000000            2.000000          2.000000   \n",
              "75%             45.000000            2.000000          3.000000   \n",
              "max           4995.000000            3.000000          7.000000   \n",
              "\n",
              "       room_type_booked_code     roomnights  season_holidayed_code  \\\n",
              "count          146765.000000  146765.000000          146730.000000   \n",
              "mean                2.888754       3.730372               2.681088   \n",
              "std                 0.804043       2.482388               0.882366   \n",
              "min                 1.000000       0.000000               1.000000   \n",
              "25%                 2.000000       2.000000               2.000000   \n",
              "50%                 3.000000       3.000000               3.000000   \n",
              "75%                 3.000000       4.000000               3.000000   \n",
              "max                 6.000000      80.000000               4.000000   \n",
              "\n",
              "       state_code_residence  state_code_resort      total_pax  \\\n",
              "count         144505.000000      146765.000000  146765.000000   \n",
              "mean               7.254206           4.750560       3.188410   \n",
              "std                4.755982           3.101036       1.163872   \n",
              "min                1.000000           1.000000       0.000000   \n",
              "25%                4.000000           2.000000       2.000000   \n",
              "50%                8.000000           5.000000       3.000000   \n",
              "75%                8.000000           7.000000       4.000000   \n",
              "max               38.000000          13.000000      21.000000   \n",
              "\n",
              "       booking_type_code  \n",
              "count      146765.000000  \n",
              "mean            1.123354  \n",
              "std             0.328844  \n",
              "min             1.000000  \n",
              "25%             1.000000  \n",
              "50%             1.000000  \n",
              "75%             1.000000  \n",
              "max             2.000000  "
            ]
          },
          "execution_count": 69,
          "metadata": {
            "tags": []
          },
          "output_type": "execute_result"
        }
      ],
      "source": [
        "df_test.describe()"
      ]
    },
    {
      "cell_type": "code",
      "execution_count": null,
      "metadata": {
        "colab": {
          "base_uri": "https://localhost:8080/",
          "height": 34
        },
        "id": "hkXDlU-1KvuR",
        "outputId": "a34312d1-ad25-4e70-dfd7-bda4c08c3fcc",
        "vscode": {
          "languageId": "python"
        }
      },
      "outputs": [
        {
          "data": {
            "text/plain": [
              "(341424, 24)"
            ]
          },
          "execution_count": 13,
          "metadata": {
            "tags": []
          },
          "output_type": "execute_result"
        }
      ],
      "source": [
        "df_train.shape"
      ]
    },
    {
      "cell_type": "code",
      "execution_count": null,
      "metadata": {
        "colab": {
          "base_uri": "https://localhost:8080/",
          "height": 459
        },
        "id": "zkvYPQnEUODg",
        "outputId": "94501b76-f4eb-4fcc-a4f6-59cd68af920c",
        "vscode": {
          "languageId": "python"
        }
      },
      "outputs": [
        {
          "name": "stdout",
          "output_type": "stream",
          "text": [
            "Column Data types:\n",
            "reservation_id                         object\n",
            "booking_date                           object\n",
            "checkin_date                           object\n",
            "checkout_date                          object\n",
            "channel_code                            int64\n",
            "main_product_code                       int64\n",
            "numberofadults                          int64\n",
            "numberofchildren                        int64\n",
            "persontravellingid                      int64\n",
            "resort_region_code                      int64\n",
            "resort_type_code                        int64\n",
            "room_type_booked_code                   int64\n",
            "roomnights                              int64\n",
            "season_holidayed_code                 float64\n",
            "state_code_residence                  float64\n",
            "state_code_resort                       int64\n",
            "total_pax                               int64\n",
            "member_age_buckets                     object\n",
            "booking_type_code                       int64\n",
            "memberid                               object\n",
            "cluster_code                           object\n",
            "reservationstatusid_code               object\n",
            "resort_id                              object\n",
            "amount_spent_per_room_night_scaled    float64\n",
            "dtype: object\n"
          ]
        }
      ],
      "source": [
        "print(\"Column Data types:\")\n",
        "print(df_train.dtypes)"
      ]
    },
    {
      "cell_type": "code",
      "execution_count": null,
      "metadata": {
        "colab": {
          "base_uri": "https://localhost:8080/",
          "height": 224
        },
        "id": "LYyTk1zyjSkc",
        "outputId": "ce632afa-9345-43b3-ab0f-dc6c738b31f2",
        "vscode": {
          "languageId": "python"
        }
      },
      "outputs": [
        {
          "data": {
            "text/html": [
              "<div>\n",
              "<style scoped>\n",
              "    .dataframe tbody tr th:only-of-type {\n",
              "        vertical-align: middle;\n",
              "    }\n",
              "\n",
              "    .dataframe tbody tr th {\n",
              "        vertical-align: top;\n",
              "    }\n",
              "\n",
              "    .dataframe thead th {\n",
              "        text-align: right;\n",
              "    }\n",
              "</style>\n",
              "<table border=\"1\" class=\"dataframe\">\n",
              "  <thead>\n",
              "    <tr style=\"text-align: right;\">\n",
              "      <th></th>\n",
              "      <th>reservation_id</th>\n",
              "      <th>booking_date</th>\n",
              "      <th>checkin_date</th>\n",
              "      <th>checkout_date</th>\n",
              "      <th>channel_code</th>\n",
              "      <th>main_product_code</th>\n",
              "      <th>numberofadults</th>\n",
              "      <th>numberofchildren</th>\n",
              "      <th>persontravellingid</th>\n",
              "      <th>resort_region_code</th>\n",
              "      <th>resort_type_code</th>\n",
              "      <th>room_type_booked_code</th>\n",
              "      <th>roomnights</th>\n",
              "      <th>season_holidayed_code</th>\n",
              "      <th>state_code_residence</th>\n",
              "      <th>state_code_resort</th>\n",
              "      <th>total_pax</th>\n",
              "      <th>member_age_buckets</th>\n",
              "      <th>booking_type_code</th>\n",
              "      <th>memberid</th>\n",
              "      <th>cluster_code</th>\n",
              "      <th>reservationstatusid_code</th>\n",
              "      <th>resort_id</th>\n",
              "      <th>amount_spent_per_room_night_scaled</th>\n",
              "      <th>reasonable_adult_count</th>\n",
              "      <th>amount_spent_range</th>\n",
              "      <th>HCChan</th>\n",
              "      <th>Prod_code</th>\n",
              "      <th>two_adults</th>\n",
              "    </tr>\n",
              "  </thead>\n",
              "  <tbody>\n",
              "    <tr>\n",
              "      <th>0</th>\n",
              "      <td>07659f3758d8aee27f5a7e2887adeacb67021cb95ada1b...</td>\n",
              "      <td>05/04/18</td>\n",
              "      <td>05/04/18</td>\n",
              "      <td>06/04/18</td>\n",
              "      <td>3</td>\n",
              "      <td>1</td>\n",
              "      <td>2</td>\n",
              "      <td>0</td>\n",
              "      <td>46</td>\n",
              "      <td>3</td>\n",
              "      <td>3</td>\n",
              "      <td>3</td>\n",
              "      <td>1</td>\n",
              "      <td>2.0</td>\n",
              "      <td>7.0</td>\n",
              "      <td>3</td>\n",
              "      <td>3</td>\n",
              "      <td>F</td>\n",
              "      <td>1</td>\n",
              "      <td>3d1539e56495b6991f0a3ef5a61ca3d03ce4fff7380e9a...</td>\n",
              "      <td>F</td>\n",
              "      <td>C</td>\n",
              "      <td>4e07408562bedb8b60ce05c1decfe3ad16b72230967de0...</td>\n",
              "      <td>7.706428</td>\n",
              "      <td>1</td>\n",
              "      <td>1</td>\n",
              "      <td>1</td>\n",
              "      <td>1</td>\n",
              "      <td>1</td>\n",
              "    </tr>\n",
              "    <tr>\n",
              "      <th>1</th>\n",
              "      <td>03930f033646d073462b35d411616323597715ac4fc398...</td>\n",
              "      <td>23/01/15</td>\n",
              "      <td>11/04/15</td>\n",
              "      <td>16/04/15</td>\n",
              "      <td>1</td>\n",
              "      <td>1</td>\n",
              "      <td>2</td>\n",
              "      <td>0</td>\n",
              "      <td>46</td>\n",
              "      <td>3</td>\n",
              "      <td>3</td>\n",
              "      <td>4</td>\n",
              "      <td>5</td>\n",
              "      <td>2.0</td>\n",
              "      <td>7.0</td>\n",
              "      <td>5</td>\n",
              "      <td>2</td>\n",
              "      <td>F</td>\n",
              "      <td>1</td>\n",
              "      <td>3d1539e56495b6991f0a3ef5a61ca3d03ce4fff7380e9a...</td>\n",
              "      <td>F</td>\n",
              "      <td>A</td>\n",
              "      <td>39fa9ec190eee7b6f4dff1100d6343e10918d044c75eac...</td>\n",
              "      <td>6.662563</td>\n",
              "      <td>1</td>\n",
              "      <td>0</td>\n",
              "      <td>0</td>\n",
              "      <td>1</td>\n",
              "      <td>1</td>\n",
              "    </tr>\n",
              "    <tr>\n",
              "      <th>2</th>\n",
              "      <td>d145a32920e6587ad95bfe299d80c0affa268220535aaf...</td>\n",
              "      <td>28/01/15</td>\n",
              "      <td>01/02/15</td>\n",
              "      <td>05/02/15</td>\n",
              "      <td>1</td>\n",
              "      <td>1</td>\n",
              "      <td>2</td>\n",
              "      <td>0</td>\n",
              "      <td>47</td>\n",
              "      <td>1</td>\n",
              "      <td>5</td>\n",
              "      <td>4</td>\n",
              "      <td>4</td>\n",
              "      <td>2.0</td>\n",
              "      <td>7.0</td>\n",
              "      <td>1</td>\n",
              "      <td>2</td>\n",
              "      <td>F</td>\n",
              "      <td>1</td>\n",
              "      <td>3d1539e56495b6991f0a3ef5a61ca3d03ce4fff7380e9a...</td>\n",
              "      <td>E</td>\n",
              "      <td>A</td>\n",
              "      <td>535fa30d7e25dd8a49f1536779734ec8286108d115da50...</td>\n",
              "      <td>7.871602</td>\n",
              "      <td>1</td>\n",
              "      <td>1</td>\n",
              "      <td>0</td>\n",
              "      <td>1</td>\n",
              "      <td>1</td>\n",
              "    </tr>\n",
              "    <tr>\n",
              "      <th>3</th>\n",
              "      <td>cfd77f44811ed62f25a220b53324cdbafc662a4c9e5f04...</td>\n",
              "      <td>02/05/15</td>\n",
              "      <td>11/06/15</td>\n",
              "      <td>16/06/15</td>\n",
              "      <td>1</td>\n",
              "      <td>1</td>\n",
              "      <td>2</td>\n",
              "      <td>2</td>\n",
              "      <td>46</td>\n",
              "      <td>2</td>\n",
              "      <td>2</td>\n",
              "      <td>3</td>\n",
              "      <td>5</td>\n",
              "      <td>2.0</td>\n",
              "      <td>7.0</td>\n",
              "      <td>2</td>\n",
              "      <td>2</td>\n",
              "      <td>F</td>\n",
              "      <td>1</td>\n",
              "      <td>3d1539e56495b6991f0a3ef5a61ca3d03ce4fff7380e9a...</td>\n",
              "      <td>D</td>\n",
              "      <td>A</td>\n",
              "      <td>d4735e3a265e16eee03f59718b9b5d03019c07d8b6c51f...</td>\n",
              "      <td>5.344943</td>\n",
              "      <td>1</td>\n",
              "      <td>0</td>\n",
              "      <td>0</td>\n",
              "      <td>1</td>\n",
              "      <td>1</td>\n",
              "    </tr>\n",
              "    <tr>\n",
              "      <th>4</th>\n",
              "      <td>937cff9e4dcfc2459620153dfc8b9962ac22bea67dfb29...</td>\n",
              "      <td>02/09/15</td>\n",
              "      <td>14/12/15</td>\n",
              "      <td>19/12/15</td>\n",
              "      <td>1</td>\n",
              "      <td>1</td>\n",
              "      <td>2</td>\n",
              "      <td>0</td>\n",
              "      <td>46</td>\n",
              "      <td>2</td>\n",
              "      <td>2</td>\n",
              "      <td>4</td>\n",
              "      <td>5</td>\n",
              "      <td>2.0</td>\n",
              "      <td>7.0</td>\n",
              "      <td>2</td>\n",
              "      <td>2</td>\n",
              "      <td>F</td>\n",
              "      <td>1</td>\n",
              "      <td>3d1539e56495b6991f0a3ef5a61ca3d03ce4fff7380e9a...</td>\n",
              "      <td>D</td>\n",
              "      <td>A</td>\n",
              "      <td>d4735e3a265e16eee03f59718b9b5d03019c07d8b6c51f...</td>\n",
              "      <td>7.059346</td>\n",
              "      <td>1</td>\n",
              "      <td>1</td>\n",
              "      <td>0</td>\n",
              "      <td>1</td>\n",
              "      <td>1</td>\n",
              "    </tr>\n",
              "  </tbody>\n",
              "</table>\n",
              "</div>"
            ],
            "text/plain": [
              "                                      reservation_id booking_date  \\\n",
              "0  07659f3758d8aee27f5a7e2887adeacb67021cb95ada1b...     05/04/18   \n",
              "1  03930f033646d073462b35d411616323597715ac4fc398...     23/01/15   \n",
              "2  d145a32920e6587ad95bfe299d80c0affa268220535aaf...     28/01/15   \n",
              "3  cfd77f44811ed62f25a220b53324cdbafc662a4c9e5f04...     02/05/15   \n",
              "4  937cff9e4dcfc2459620153dfc8b9962ac22bea67dfb29...     02/09/15   \n",
              "\n",
              "  checkin_date checkout_date  channel_code  main_product_code  numberofadults  \\\n",
              "0     05/04/18      06/04/18             3                  1               2   \n",
              "1     11/04/15      16/04/15             1                  1               2   \n",
              "2     01/02/15      05/02/15             1                  1               2   \n",
              "3     11/06/15      16/06/15             1                  1               2   \n",
              "4     14/12/15      19/12/15             1                  1               2   \n",
              "\n",
              "   numberofchildren  persontravellingid  resort_region_code  resort_type_code  \\\n",
              "0                 0                  46                   3                 3   \n",
              "1                 0                  46                   3                 3   \n",
              "2                 0                  47                   1                 5   \n",
              "3                 2                  46                   2                 2   \n",
              "4                 0                  46                   2                 2   \n",
              "\n",
              "   room_type_booked_code  roomnights  season_holidayed_code  \\\n",
              "0                      3           1                    2.0   \n",
              "1                      4           5                    2.0   \n",
              "2                      4           4                    2.0   \n",
              "3                      3           5                    2.0   \n",
              "4                      4           5                    2.0   \n",
              "\n",
              "   state_code_residence  state_code_resort  total_pax member_age_buckets  \\\n",
              "0                   7.0                  3          3                  F   \n",
              "1                   7.0                  5          2                  F   \n",
              "2                   7.0                  1          2                  F   \n",
              "3                   7.0                  2          2                  F   \n",
              "4                   7.0                  2          2                  F   \n",
              "\n",
              "   booking_type_code                                           memberid  \\\n",
              "0                  1  3d1539e56495b6991f0a3ef5a61ca3d03ce4fff7380e9a...   \n",
              "1                  1  3d1539e56495b6991f0a3ef5a61ca3d03ce4fff7380e9a...   \n",
              "2                  1  3d1539e56495b6991f0a3ef5a61ca3d03ce4fff7380e9a...   \n",
              "3                  1  3d1539e56495b6991f0a3ef5a61ca3d03ce4fff7380e9a...   \n",
              "4                  1  3d1539e56495b6991f0a3ef5a61ca3d03ce4fff7380e9a...   \n",
              "\n",
              "  cluster_code reservationstatusid_code  \\\n",
              "0            F                        C   \n",
              "1            F                        A   \n",
              "2            E                        A   \n",
              "3            D                        A   \n",
              "4            D                        A   \n",
              "\n",
              "                                           resort_id  \\\n",
              "0  4e07408562bedb8b60ce05c1decfe3ad16b72230967de0...   \n",
              "1  39fa9ec190eee7b6f4dff1100d6343e10918d044c75eac...   \n",
              "2  535fa30d7e25dd8a49f1536779734ec8286108d115da50...   \n",
              "3  d4735e3a265e16eee03f59718b9b5d03019c07d8b6c51f...   \n",
              "4  d4735e3a265e16eee03f59718b9b5d03019c07d8b6c51f...   \n",
              "\n",
              "   amount_spent_per_room_night_scaled  reasonable_adult_count  \\\n",
              "0                            7.706428                       1   \n",
              "1                            6.662563                       1   \n",
              "2                            7.871602                       1   \n",
              "3                            5.344943                       1   \n",
              "4                            7.059346                       1   \n",
              "\n",
              "   amount_spent_range  HCChan  Prod_code  two_adults  \n",
              "0                   1       1          1           1  \n",
              "1                   0       0          1           1  \n",
              "2                   1       0          1           1  \n",
              "3                   0       0          1           1  \n",
              "4                   1       0          1           1  "
            ]
          },
          "execution_count": 64,
          "metadata": {
            "tags": []
          },
          "output_type": "execute_result"
        }
      ],
      "source": [
        "df_train_copy.head()"
      ]
    },
    {
      "cell_type": "code",
      "execution_count": null,
      "metadata": {
        "colab": {
          "base_uri": "https://localhost:8080/",
          "height": 241
        },
        "id": "n5ELcoOOPOQK",
        "outputId": "c1090f78-e01e-4c29-9914-9ac7e0191daa",
        "vscode": {
          "languageId": "python"
        }
      },
      "outputs": [
        {
          "name": "stdout",
          "output_type": "stream",
          "text": [
            "(341424, 18)\n"
          ]
        },
        {
          "data": {
            "text/html": [
              "<div>\n",
              "<style scoped>\n",
              "    .dataframe tbody tr th:only-of-type {\n",
              "        vertical-align: middle;\n",
              "    }\n",
              "\n",
              "    .dataframe tbody tr th {\n",
              "        vertical-align: top;\n",
              "    }\n",
              "\n",
              "    .dataframe thead th {\n",
              "        text-align: right;\n",
              "    }\n",
              "</style>\n",
              "<table border=\"1\" class=\"dataframe\">\n",
              "  <thead>\n",
              "    <tr style=\"text-align: right;\">\n",
              "      <th></th>\n",
              "      <th>channel_code</th>\n",
              "      <th>main_product_code</th>\n",
              "      <th>numberofadults</th>\n",
              "      <th>numberofchildren</th>\n",
              "      <th>persontravellingid</th>\n",
              "      <th>resort_region_code</th>\n",
              "      <th>resort_type_code</th>\n",
              "      <th>room_type_booked_code</th>\n",
              "      <th>roomnights</th>\n",
              "      <th>season_holidayed_code</th>\n",
              "      <th>state_code_residence</th>\n",
              "      <th>state_code_resort</th>\n",
              "      <th>total_pax</th>\n",
              "      <th>member_age_buckets</th>\n",
              "      <th>booking_type_code</th>\n",
              "      <th>cluster_code</th>\n",
              "      <th>reservationstatusid_code</th>\n",
              "      <th>HCChan</th>\n",
              "    </tr>\n",
              "  </thead>\n",
              "  <tbody>\n",
              "    <tr>\n",
              "      <th>0</th>\n",
              "      <td>3</td>\n",
              "      <td>1</td>\n",
              "      <td>2</td>\n",
              "      <td>0</td>\n",
              "      <td>46</td>\n",
              "      <td>3</td>\n",
              "      <td>3</td>\n",
              "      <td>3</td>\n",
              "      <td>1</td>\n",
              "      <td>2.0</td>\n",
              "      <td>7.0</td>\n",
              "      <td>3</td>\n",
              "      <td>3</td>\n",
              "      <td>F</td>\n",
              "      <td>1</td>\n",
              "      <td>F</td>\n",
              "      <td>C</td>\n",
              "      <td>0</td>\n",
              "    </tr>\n",
              "    <tr>\n",
              "      <th>1</th>\n",
              "      <td>1</td>\n",
              "      <td>1</td>\n",
              "      <td>2</td>\n",
              "      <td>0</td>\n",
              "      <td>46</td>\n",
              "      <td>3</td>\n",
              "      <td>3</td>\n",
              "      <td>4</td>\n",
              "      <td>5</td>\n",
              "      <td>2.0</td>\n",
              "      <td>7.0</td>\n",
              "      <td>5</td>\n",
              "      <td>2</td>\n",
              "      <td>F</td>\n",
              "      <td>1</td>\n",
              "      <td>F</td>\n",
              "      <td>A</td>\n",
              "      <td>1</td>\n",
              "    </tr>\n",
              "    <tr>\n",
              "      <th>2</th>\n",
              "      <td>1</td>\n",
              "      <td>1</td>\n",
              "      <td>2</td>\n",
              "      <td>0</td>\n",
              "      <td>47</td>\n",
              "      <td>1</td>\n",
              "      <td>5</td>\n",
              "      <td>4</td>\n",
              "      <td>4</td>\n",
              "      <td>2.0</td>\n",
              "      <td>7.0</td>\n",
              "      <td>1</td>\n",
              "      <td>2</td>\n",
              "      <td>F</td>\n",
              "      <td>1</td>\n",
              "      <td>E</td>\n",
              "      <td>A</td>\n",
              "      <td>1</td>\n",
              "    </tr>\n",
              "    <tr>\n",
              "      <th>3</th>\n",
              "      <td>1</td>\n",
              "      <td>1</td>\n",
              "      <td>2</td>\n",
              "      <td>2</td>\n",
              "      <td>46</td>\n",
              "      <td>2</td>\n",
              "      <td>2</td>\n",
              "      <td>3</td>\n",
              "      <td>5</td>\n",
              "      <td>2.0</td>\n",
              "      <td>7.0</td>\n",
              "      <td>2</td>\n",
              "      <td>2</td>\n",
              "      <td>F</td>\n",
              "      <td>1</td>\n",
              "      <td>D</td>\n",
              "      <td>A</td>\n",
              "      <td>1</td>\n",
              "    </tr>\n",
              "    <tr>\n",
              "      <th>4</th>\n",
              "      <td>1</td>\n",
              "      <td>1</td>\n",
              "      <td>2</td>\n",
              "      <td>0</td>\n",
              "      <td>46</td>\n",
              "      <td>2</td>\n",
              "      <td>2</td>\n",
              "      <td>4</td>\n",
              "      <td>5</td>\n",
              "      <td>2.0</td>\n",
              "      <td>7.0</td>\n",
              "      <td>2</td>\n",
              "      <td>2</td>\n",
              "      <td>F</td>\n",
              "      <td>1</td>\n",
              "      <td>D</td>\n",
              "      <td>A</td>\n",
              "      <td>1</td>\n",
              "    </tr>\n",
              "  </tbody>\n",
              "</table>\n",
              "</div>"
            ],
            "text/plain": [
              "   channel_code  main_product_code  numberofadults  numberofchildren  \\\n",
              "0             3                  1               2                 0   \n",
              "1             1                  1               2                 0   \n",
              "2             1                  1               2                 0   \n",
              "3             1                  1               2                 2   \n",
              "4             1                  1               2                 0   \n",
              "\n",
              "   persontravellingid  resort_region_code  resort_type_code  \\\n",
              "0                  46                   3                 3   \n",
              "1                  46                   3                 3   \n",
              "2                  47                   1                 5   \n",
              "3                  46                   2                 2   \n",
              "4                  46                   2                 2   \n",
              "\n",
              "   room_type_booked_code  roomnights  season_holidayed_code  \\\n",
              "0                      3           1                    2.0   \n",
              "1                      4           5                    2.0   \n",
              "2                      4           4                    2.0   \n",
              "3                      3           5                    2.0   \n",
              "4                      4           5                    2.0   \n",
              "\n",
              "   state_code_residence  state_code_resort  total_pax member_age_buckets  \\\n",
              "0                   7.0                  3          3                  F   \n",
              "1                   7.0                  5          2                  F   \n",
              "2                   7.0                  1          2                  F   \n",
              "3                   7.0                  2          2                  F   \n",
              "4                   7.0                  2          2                  F   \n",
              "\n",
              "   booking_type_code cluster_code reservationstatusid_code  HCChan  \n",
              "0                  1            F                        C       0  \n",
              "1                  1            F                        A       1  \n",
              "2                  1            E                        A       1  \n",
              "3                  1            D                        A       1  \n",
              "4                  1            D                        A       1  "
            ]
          },
          "execution_count": 103,
          "metadata": {
            "tags": []
          },
          "output_type": "execute_result"
        }
      ],
      "source": [
        "df_train_one = df_train_copy.iloc[:,4:].drop(['memberid','amount_spent_per_room_night_scaled','resort_id','amount_spent_range','amount_spent_low','amount_spent_average','amount_spent_high'],axis=1)\n",
        "#df_train_one = df_train.iloc[:,4:22].drop(['memberid'],axis=1)\n",
        "print(df_train_one.shape)\n",
        "df_train_one.head()\n"
      ]
    },
    {
      "cell_type": "code",
      "execution_count": null,
      "metadata": {
        "id": "ynyVKfVYVOvs",
        "vscode": {
          "languageId": "python"
        }
      },
      "outputs": [],
      "source": [
        "cat_columns = df_train_one.select_dtypes(['object']).columns\n",
        "df_train_one[cat_columns] = df_train_one[cat_columns].astype('category')\n",
        "#print(df_train_one.dtypes)\n",
        "df_train_one[cat_columns] = df_train_one[cat_columns].apply(lambda x: x.cat.codes)"
      ]
    },
    {
      "cell_type": "code",
      "execution_count": null,
      "metadata": {
        "id": "4nJ2_F_ZEfTH",
        "vscode": {
          "languageId": "python"
        }
      },
      "outputs": [],
      "source": [
        "df_train_one[['state_code_residence']] = df_train_one[['state_code_residence']].fillna(value=0.0)\n",
        "df_train_one[['season_holidayed_code']] = df_train_one[['season_holidayed_code']].fillna(value=0.0)"
      ]
    },
    {
      "cell_type": "code",
      "execution_count": null,
      "metadata": {
        "colab": {
          "base_uri": "https://localhost:8080/",
          "height": 391
        },
        "id": "uuIQAMfvGE4l",
        "outputId": "bde15f08-6691-448b-e1a8-361ff22776ed",
        "vscode": {
          "languageId": "python"
        }
      },
      "outputs": [
        {
          "name": "stdout",
          "output_type": "stream",
          "text": [
            "<class 'pandas.core.frame.DataFrame'>\n",
            "RangeIndex: 341424 entries, 0 to 341423\n",
            "Data columns (total 17 columns):\n",
            "channel_code                341424 non-null int64\n",
            "main_product_code           341424 non-null int64\n",
            "numberofadults              341424 non-null int64\n",
            "numberofchildren            341424 non-null int64\n",
            "persontravellingid          341424 non-null int64\n",
            "resort_region_code          341424 non-null int64\n",
            "resort_type_code            341424 non-null int64\n",
            "room_type_booked_code       341424 non-null int64\n",
            "roomnights                  341424 non-null int64\n",
            "season_holidayed_code       341424 non-null float64\n",
            "state_code_residence        341424 non-null float64\n",
            "state_code_resort           341424 non-null int64\n",
            "total_pax                   341424 non-null int64\n",
            "member_age_buckets          341424 non-null object\n",
            "booking_type_code           341424 non-null int64\n",
            "cluster_code                341424 non-null object\n",
            "reservationstatusid_code    341424 non-null object\n",
            "dtypes: float64(2), int64(12), object(3)\n",
            "memory usage: 44.3+ MB\n"
          ]
        }
      ],
      "source": [
        "df_train_one.info()"
      ]
    },
    {
      "cell_type": "code",
      "execution_count": null,
      "metadata": {
        "colab": {
          "base_uri": "https://localhost:8080/",
          "height": 317
        },
        "id": "0GE52rwvPfyt",
        "outputId": "fa479c23-5a30-47b8-bd38-ac23df414494",
        "vscode": {
          "languageId": "python"
        }
      },
      "outputs": [
        {
          "data": {
            "text/html": [
              "<div>\n",
              "<style scoped>\n",
              "    .dataframe tbody tr th:only-of-type {\n",
              "        vertical-align: middle;\n",
              "    }\n",
              "\n",
              "    .dataframe tbody tr th {\n",
              "        vertical-align: top;\n",
              "    }\n",
              "\n",
              "    .dataframe thead th {\n",
              "        text-align: right;\n",
              "    }\n",
              "</style>\n",
              "<table border=\"1\" class=\"dataframe\">\n",
              "  <thead>\n",
              "    <tr style=\"text-align: right;\">\n",
              "      <th></th>\n",
              "      <th>channel_code</th>\n",
              "      <th>main_product_code</th>\n",
              "      <th>numberofadults</th>\n",
              "      <th>numberofchildren</th>\n",
              "      <th>persontravellingid</th>\n",
              "      <th>resort_region_code</th>\n",
              "      <th>resort_type_code</th>\n",
              "      <th>room_type_booked_code</th>\n",
              "      <th>roomnights</th>\n",
              "      <th>season_holidayed_code</th>\n",
              "      <th>state_code_residence</th>\n",
              "      <th>state_code_resort</th>\n",
              "      <th>total_pax</th>\n",
              "      <th>member_age_buckets</th>\n",
              "      <th>booking_type_code</th>\n",
              "      <th>cluster_code</th>\n",
              "      <th>reservationstatusid_code</th>\n",
              "    </tr>\n",
              "  </thead>\n",
              "  <tbody>\n",
              "    <tr>\n",
              "      <th>count</th>\n",
              "      <td>341424.000000</td>\n",
              "      <td>341424.000000</td>\n",
              "      <td>341424.000000</td>\n",
              "      <td>341424.000000</td>\n",
              "      <td>341424.000000</td>\n",
              "      <td>341424.000000</td>\n",
              "      <td>341424.000000</td>\n",
              "      <td>341424.000000</td>\n",
              "      <td>341424.000000</td>\n",
              "      <td>341424.000000</td>\n",
              "      <td>341424.000000</td>\n",
              "      <td>341424.000000</td>\n",
              "      <td>341424.000000</td>\n",
              "      <td>341424.000000</td>\n",
              "      <td>341424.000000</td>\n",
              "      <td>341424.000000</td>\n",
              "      <td>341424.000000</td>\n",
              "    </tr>\n",
              "    <tr>\n",
              "      <th>mean</th>\n",
              "      <td>1.902810</td>\n",
              "      <td>2.208738</td>\n",
              "      <td>3.275361</td>\n",
              "      <td>0.362696</td>\n",
              "      <td>210.288905</td>\n",
              "      <td>1.772960</td>\n",
              "      <td>2.193832</td>\n",
              "      <td>2.890321</td>\n",
              "      <td>3.738346</td>\n",
              "      <td>2.672970</td>\n",
              "      <td>7.159397</td>\n",
              "      <td>4.763303</td>\n",
              "      <td>3.193390</td>\n",
              "      <td>4.102433</td>\n",
              "      <td>1.124209</td>\n",
              "      <td>3.290252</td>\n",
              "      <td>0.126166</td>\n",
              "    </tr>\n",
              "    <tr>\n",
              "      <th>std</th>\n",
              "      <td>0.915311</td>\n",
              "      <td>0.823779</td>\n",
              "      <td>1.756062</td>\n",
              "      <td>0.758019</td>\n",
              "      <td>865.735577</td>\n",
              "      <td>0.750806</td>\n",
              "      <td>1.551451</td>\n",
              "      <td>0.804260</td>\n",
              "      <td>2.479054</td>\n",
              "      <td>0.886848</td>\n",
              "      <td>4.745418</td>\n",
              "      <td>3.103909</td>\n",
              "      <td>1.167824</td>\n",
              "      <td>1.909182</td>\n",
              "      <td>0.329821</td>\n",
              "      <td>1.684267</td>\n",
              "      <td>0.439366</td>\n",
              "    </tr>\n",
              "    <tr>\n",
              "      <th>min</th>\n",
              "      <td>1.000000</td>\n",
              "      <td>1.000000</td>\n",
              "      <td>0.000000</td>\n",
              "      <td>0.000000</td>\n",
              "      <td>45.000000</td>\n",
              "      <td>1.000000</td>\n",
              "      <td>0.000000</td>\n",
              "      <td>1.000000</td>\n",
              "      <td>-45.000000</td>\n",
              "      <td>0.000000</td>\n",
              "      <td>0.000000</td>\n",
              "      <td>1.000000</td>\n",
              "      <td>0.000000</td>\n",
              "      <td>0.000000</td>\n",
              "      <td>1.000000</td>\n",
              "      <td>0.000000</td>\n",
              "      <td>0.000000</td>\n",
              "    </tr>\n",
              "    <tr>\n",
              "      <th>25%</th>\n",
              "      <td>1.000000</td>\n",
              "      <td>2.000000</td>\n",
              "      <td>2.000000</td>\n",
              "      <td>0.000000</td>\n",
              "      <td>45.000000</td>\n",
              "      <td>1.000000</td>\n",
              "      <td>1.000000</td>\n",
              "      <td>2.000000</td>\n",
              "      <td>2.000000</td>\n",
              "      <td>2.000000</td>\n",
              "      <td>4.000000</td>\n",
              "      <td>2.000000</td>\n",
              "      <td>2.000000</td>\n",
              "      <td>3.000000</td>\n",
              "      <td>1.000000</td>\n",
              "      <td>2.000000</td>\n",
              "      <td>0.000000</td>\n",
              "    </tr>\n",
              "    <tr>\n",
              "      <th>50%</th>\n",
              "      <td>2.000000</td>\n",
              "      <td>2.000000</td>\n",
              "      <td>3.000000</td>\n",
              "      <td>0.000000</td>\n",
              "      <td>45.000000</td>\n",
              "      <td>2.000000</td>\n",
              "      <td>2.000000</td>\n",
              "      <td>3.000000</td>\n",
              "      <td>3.000000</td>\n",
              "      <td>3.000000</td>\n",
              "      <td>8.000000</td>\n",
              "      <td>5.000000</td>\n",
              "      <td>3.000000</td>\n",
              "      <td>4.000000</td>\n",
              "      <td>1.000000</td>\n",
              "      <td>4.000000</td>\n",
              "      <td>0.000000</td>\n",
              "    </tr>\n",
              "    <tr>\n",
              "      <th>75%</th>\n",
              "      <td>3.000000</td>\n",
              "      <td>3.000000</td>\n",
              "      <td>4.000000</td>\n",
              "      <td>0.000000</td>\n",
              "      <td>45.000000</td>\n",
              "      <td>2.000000</td>\n",
              "      <td>3.000000</td>\n",
              "      <td>3.000000</td>\n",
              "      <td>4.000000</td>\n",
              "      <td>3.000000</td>\n",
              "      <td>8.000000</td>\n",
              "      <td>7.000000</td>\n",
              "      <td>4.000000</td>\n",
              "      <td>5.000000</td>\n",
              "      <td>1.000000</td>\n",
              "      <td>5.000000</td>\n",
              "      <td>0.000000</td>\n",
              "    </tr>\n",
              "    <tr>\n",
              "      <th>max</th>\n",
              "      <td>3.000000</td>\n",
              "      <td>7.000000</td>\n",
              "      <td>32.000000</td>\n",
              "      <td>13.000000</td>\n",
              "      <td>4995.000000</td>\n",
              "      <td>3.000000</td>\n",
              "      <td>7.000000</td>\n",
              "      <td>6.000000</td>\n",
              "      <td>60.000000</td>\n",
              "      <td>4.000000</td>\n",
              "      <td>38.000000</td>\n",
              "      <td>13.000000</td>\n",
              "      <td>24.000000</td>\n",
              "      <td>9.000000</td>\n",
              "      <td>2.000000</td>\n",
              "      <td>5.000000</td>\n",
              "      <td>3.000000</td>\n",
              "    </tr>\n",
              "  </tbody>\n",
              "</table>\n",
              "</div>"
            ],
            "text/plain": [
              "        channel_code  main_product_code  numberofadults  numberofchildren  \\\n",
              "count  341424.000000      341424.000000   341424.000000     341424.000000   \n",
              "mean        1.902810           2.208738        3.275361          0.362696   \n",
              "std         0.915311           0.823779        1.756062          0.758019   \n",
              "min         1.000000           1.000000        0.000000          0.000000   \n",
              "25%         1.000000           2.000000        2.000000          0.000000   \n",
              "50%         2.000000           2.000000        3.000000          0.000000   \n",
              "75%         3.000000           3.000000        4.000000          0.000000   \n",
              "max         3.000000           7.000000       32.000000         13.000000   \n",
              "\n",
              "       persontravellingid  resort_region_code  resort_type_code  \\\n",
              "count       341424.000000       341424.000000     341424.000000   \n",
              "mean           210.288905            1.772960          2.193832   \n",
              "std            865.735577            0.750806          1.551451   \n",
              "min             45.000000            1.000000          0.000000   \n",
              "25%             45.000000            1.000000          1.000000   \n",
              "50%             45.000000            2.000000          2.000000   \n",
              "75%             45.000000            2.000000          3.000000   \n",
              "max           4995.000000            3.000000          7.000000   \n",
              "\n",
              "       room_type_booked_code     roomnights  season_holidayed_code  \\\n",
              "count          341424.000000  341424.000000          341424.000000   \n",
              "mean                2.890321       3.738346               2.672970   \n",
              "std                 0.804260       2.479054               0.886848   \n",
              "min                 1.000000     -45.000000               0.000000   \n",
              "25%                 2.000000       2.000000               2.000000   \n",
              "50%                 3.000000       3.000000               3.000000   \n",
              "75%                 3.000000       4.000000               3.000000   \n",
              "max                 6.000000      60.000000               4.000000   \n",
              "\n",
              "       state_code_residence  state_code_resort      total_pax  \\\n",
              "count         341424.000000      341424.000000  341424.000000   \n",
              "mean               7.159397           4.763303       3.193390   \n",
              "std                4.745418           3.103909       1.167824   \n",
              "min                0.000000           1.000000       0.000000   \n",
              "25%                4.000000           2.000000       2.000000   \n",
              "50%                8.000000           5.000000       3.000000   \n",
              "75%                8.000000           7.000000       4.000000   \n",
              "max               38.000000          13.000000      24.000000   \n",
              "\n",
              "       member_age_buckets  booking_type_code   cluster_code  \\\n",
              "count       341424.000000      341424.000000  341424.000000   \n",
              "mean             4.102433           1.124209       3.290252   \n",
              "std              1.909182           0.329821       1.684267   \n",
              "min              0.000000           1.000000       0.000000   \n",
              "25%              3.000000           1.000000       2.000000   \n",
              "50%              4.000000           1.000000       4.000000   \n",
              "75%              5.000000           1.000000       5.000000   \n",
              "max              9.000000           2.000000       5.000000   \n",
              "\n",
              "       reservationstatusid_code  \n",
              "count             341424.000000  \n",
              "mean                   0.126166  \n",
              "std                    0.439366  \n",
              "min                    0.000000  \n",
              "25%                    0.000000  \n",
              "50%                    0.000000  \n",
              "75%                    0.000000  \n",
              "max                    3.000000  "
            ]
          },
          "execution_count": 82,
          "metadata": {
            "tags": []
          },
          "output_type": "execute_result"
        }
      ],
      "source": [
        "df_train_one.describe()"
      ]
    },
    {
      "cell_type": "markdown",
      "metadata": {
        "id": "zCBKUfwqjf4L"
      },
      "source": [
        "## test"
      ]
    },
    {
      "cell_type": "code",
      "execution_count": null,
      "metadata": {
        "colab": {
          "base_uri": "https://localhost:8080/",
          "height": 241
        },
        "id": "t-ZTuaCQQtc3",
        "outputId": "a29b1c4f-924c-40cc-aa2b-5585a4721eb0",
        "vscode": {
          "languageId": "python"
        }
      },
      "outputs": [
        {
          "name": "stdout",
          "output_type": "stream",
          "text": [
            "(146765, 17)\n"
          ]
        },
        {
          "data": {
            "text/html": [
              "<div>\n",
              "<style scoped>\n",
              "    .dataframe tbody tr th:only-of-type {\n",
              "        vertical-align: middle;\n",
              "    }\n",
              "\n",
              "    .dataframe tbody tr th {\n",
              "        vertical-align: top;\n",
              "    }\n",
              "\n",
              "    .dataframe thead th {\n",
              "        text-align: right;\n",
              "    }\n",
              "</style>\n",
              "<table border=\"1\" class=\"dataframe\">\n",
              "  <thead>\n",
              "    <tr style=\"text-align: right;\">\n",
              "      <th></th>\n",
              "      <th>channel_code</th>\n",
              "      <th>main_product_code</th>\n",
              "      <th>numberofadults</th>\n",
              "      <th>numberofchildren</th>\n",
              "      <th>persontravellingid</th>\n",
              "      <th>resort_region_code</th>\n",
              "      <th>resort_type_code</th>\n",
              "      <th>room_type_booked_code</th>\n",
              "      <th>roomnights</th>\n",
              "      <th>season_holidayed_code</th>\n",
              "      <th>state_code_residence</th>\n",
              "      <th>state_code_resort</th>\n",
              "      <th>total_pax</th>\n",
              "      <th>member_age_buckets</th>\n",
              "      <th>booking_type_code</th>\n",
              "      <th>cluster_code</th>\n",
              "      <th>reservationstatusid_code</th>\n",
              "    </tr>\n",
              "  </thead>\n",
              "  <tbody>\n",
              "    <tr>\n",
              "      <th>0</th>\n",
              "      <td>3</td>\n",
              "      <td>2</td>\n",
              "      <td>2</td>\n",
              "      <td>0</td>\n",
              "      <td>45</td>\n",
              "      <td>3</td>\n",
              "      <td>3</td>\n",
              "      <td>4</td>\n",
              "      <td>1</td>\n",
              "      <td>2.0</td>\n",
              "      <td>2.0</td>\n",
              "      <td>3</td>\n",
              "      <td>3</td>\n",
              "      <td>H</td>\n",
              "      <td>1</td>\n",
              "      <td>A</td>\n",
              "      <td>C</td>\n",
              "    </tr>\n",
              "    <tr>\n",
              "      <th>1</th>\n",
              "      <td>1</td>\n",
              "      <td>2</td>\n",
              "      <td>4</td>\n",
              "      <td>0</td>\n",
              "      <td>45</td>\n",
              "      <td>1</td>\n",
              "      <td>1</td>\n",
              "      <td>4</td>\n",
              "      <td>8</td>\n",
              "      <td>2.0</td>\n",
              "      <td>2.0</td>\n",
              "      <td>4</td>\n",
              "      <td>2</td>\n",
              "      <td>H</td>\n",
              "      <td>1</td>\n",
              "      <td>F</td>\n",
              "      <td>A</td>\n",
              "    </tr>\n",
              "    <tr>\n",
              "      <th>2</th>\n",
              "      <td>3</td>\n",
              "      <td>2</td>\n",
              "      <td>3</td>\n",
              "      <td>0</td>\n",
              "      <td>45</td>\n",
              "      <td>2</td>\n",
              "      <td>2</td>\n",
              "      <td>2</td>\n",
              "      <td>3</td>\n",
              "      <td>4.0</td>\n",
              "      <td>2.0</td>\n",
              "      <td>2</td>\n",
              "      <td>3</td>\n",
              "      <td>H</td>\n",
              "      <td>1</td>\n",
              "      <td>D</td>\n",
              "      <td>A</td>\n",
              "    </tr>\n",
              "    <tr>\n",
              "      <th>3</th>\n",
              "      <td>1</td>\n",
              "      <td>2</td>\n",
              "      <td>3</td>\n",
              "      <td>0</td>\n",
              "      <td>45</td>\n",
              "      <td>1</td>\n",
              "      <td>1</td>\n",
              "      <td>2</td>\n",
              "      <td>3</td>\n",
              "      <td>2.0</td>\n",
              "      <td>2.0</td>\n",
              "      <td>6</td>\n",
              "      <td>3</td>\n",
              "      <td>H</td>\n",
              "      <td>1</td>\n",
              "      <td>F</td>\n",
              "      <td>A</td>\n",
              "    </tr>\n",
              "    <tr>\n",
              "      <th>4</th>\n",
              "      <td>1</td>\n",
              "      <td>2</td>\n",
              "      <td>4</td>\n",
              "      <td>0</td>\n",
              "      <td>45</td>\n",
              "      <td>1</td>\n",
              "      <td>2</td>\n",
              "      <td>3</td>\n",
              "      <td>8</td>\n",
              "      <td>2.0</td>\n",
              "      <td>2.0</td>\n",
              "      <td>11</td>\n",
              "      <td>2</td>\n",
              "      <td>H</td>\n",
              "      <td>1</td>\n",
              "      <td>F</td>\n",
              "      <td>A</td>\n",
              "    </tr>\n",
              "  </tbody>\n",
              "</table>\n",
              "</div>"
            ],
            "text/plain": [
              "   channel_code  main_product_code  numberofadults  numberofchildren  \\\n",
              "0             3                  2               2                 0   \n",
              "1             1                  2               4                 0   \n",
              "2             3                  2               3                 0   \n",
              "3             1                  2               3                 0   \n",
              "4             1                  2               4                 0   \n",
              "\n",
              "   persontravellingid  resort_region_code  resort_type_code  \\\n",
              "0                  45                   3                 3   \n",
              "1                  45                   1                 1   \n",
              "2                  45                   2                 2   \n",
              "3                  45                   1                 1   \n",
              "4                  45                   1                 2   \n",
              "\n",
              "   room_type_booked_code  roomnights  season_holidayed_code  \\\n",
              "0                      4           1                    2.0   \n",
              "1                      4           8                    2.0   \n",
              "2                      2           3                    4.0   \n",
              "3                      2           3                    2.0   \n",
              "4                      3           8                    2.0   \n",
              "\n",
              "   state_code_residence  state_code_resort  total_pax member_age_buckets  \\\n",
              "0                   2.0                  3          3                  H   \n",
              "1                   2.0                  4          2                  H   \n",
              "2                   2.0                  2          3                  H   \n",
              "3                   2.0                  6          3                  H   \n",
              "4                   2.0                 11          2                  H   \n",
              "\n",
              "   booking_type_code cluster_code reservationstatusid_code  \n",
              "0                  1            A                        C  \n",
              "1                  1            F                        A  \n",
              "2                  1            D                        A  \n",
              "3                  1            F                        A  \n",
              "4                  1            F                        A  "
            ]
          },
          "execution_count": 35,
          "metadata": {
            "tags": []
          },
          "output_type": "execute_result"
        }
      ],
      "source": [
        "df_test_one = df_test.iloc[:,4:22].drop(['memberid'],axis=1)\n",
        "print(df_test_one.shape)\n",
        "df_test_one.head()"
      ]
    },
    {
      "cell_type": "code",
      "execution_count": null,
      "metadata": {
        "id": "7ZOk8-nyXVF0",
        "vscode": {
          "languageId": "python"
        }
      },
      "outputs": [],
      "source": [
        "cat_columns = df_test_one.select_dtypes(['object']).columns\n",
        "df_test_one[cat_columns] = df_test_one[cat_columns].astype('category')\n",
        "#print(df_train_one.dtypes)\n",
        "df_test_one[cat_columns] = df_test_one[cat_columns].apply(lambda x: x.cat.codes)"
      ]
    },
    {
      "cell_type": "code",
      "execution_count": null,
      "metadata": {
        "id": "Lp1bDe9SQ7kG",
        "vscode": {
          "languageId": "python"
        }
      },
      "outputs": [],
      "source": [
        "y = df_train_copy[['amount_spent_per_room_night_scaled']]"
      ]
    },
    {
      "cell_type": "code",
      "execution_count": null,
      "metadata": {
        "id": "ok2MOMcBRG2t",
        "vscode": {
          "languageId": "python"
        }
      },
      "outputs": [],
      "source": [
        "X_train = np.array(df_train_one)\n",
        "y_train = np.array(y).ravel()\n",
        "#X_test = np.array(df_test_one)"
      ]
    },
    {
      "cell_type": "code",
      "execution_count": null,
      "metadata": {
        "id": "MohMkRhdlI0m",
        "vscode": {
          "languageId": "python"
        }
      },
      "outputs": [],
      "source": [
        "from sklearn.model_selection import train_test_split\n",
        "X_train, X_test, y_train, y_test = train_test_split(X_train, y_train, random_state = 0)"
      ]
    },
    {
      "cell_type": "code",
      "execution_count": null,
      "metadata": {
        "id": "nfF5vAfZRbY9",
        "vscode": {
          "languageId": "python"
        }
      },
      "outputs": [],
      "source": [
        "#feature scaling\n",
        "from sklearn.preprocessing import StandardScaler\n",
        "scaler = StandardScaler()\n",
        "scaler.fit(X_train)\n",
        "X_train = scaler.transform(X_train)\n",
        "X_test = scaler.transform(X_test)"
      ]
    },
    {
      "cell_type": "code",
      "execution_count": null,
      "metadata": {
        "id": "_wpLhn4lRkPw",
        "vscode": {
          "languageId": "python"
        }
      },
      "outputs": [],
      "source": [
        "#XGB\n",
        "xgb_model = xgboost.XGBRegressor().fit(X_train,y_train)\n",
        "xgb_predictions = xgb_model.predict(X_test)\n",
        "#print(xgb_predictions)\n",
        "#xgb_predictions_df = pd.DataFrame(xgb_predictions)\n",
        "#xgb_predictions_df.columns = ['amount_spent_per_room_night_scaled']"
      ]
    },
    {
      "cell_type": "code",
      "execution_count": null,
      "metadata": {
        "colab": {
          "base_uri": "https://localhost:8080/",
          "height": 51
        },
        "id": "0ZAUVnSasJec",
        "outputId": "f713af8b-1eb0-4702-f12a-4d5320e834ef",
        "vscode": {
          "languageId": "python"
        }
      },
      "outputs": [
        {
          "name": "stderr",
          "output_type": "stream",
          "text": [
            "/usr/local/lib/python3.6/dist-packages/sklearn/ensemble/forest.py:246: FutureWarning: The default value of n_estimators will change from 10 in version 0.20 to 100 in 0.22.\n",
            "  \"10 in version 0.20 to 100 in 0.22.\", FutureWarning)\n"
          ]
        }
      ],
      "source": [
        "#RF\n",
        "from sklearn.ensemble import RandomForestRegressor\n",
        "rf_model = RandomForestRegressor().fit(X_train,y_train)\n",
        "rf_predictions = rf_model.predict(X_test)"
      ]
    },
    {
      "cell_type": "code",
      "execution_count": null,
      "metadata": {
        "colab": {
          "base_uri": "https://localhost:8080/",
          "height": 34
        },
        "id": "BrSIwIXCobN0",
        "outputId": "8bfa414f-e42a-4e9c-c03e-143998edaf30",
        "vscode": {
          "languageId": "python"
        }
      },
      "outputs": [
        {
          "name": "stdout",
          "output_type": "stream",
          "text": [
            "0.9263516490381299\n"
          ]
        }
      ],
      "source": [
        "from sklearn.metrics import mean_squared_error\n",
        "from math import sqrt\n",
        "rms = sqrt(mean_squared_error(y_test, rf_predictions))\n",
        "print (rms)"
      ]
    }
  ],
  "metadata": {
    "accelerator": "GPU",
    "colab": {
      "provenance": []
    },
    "kernelspec": {
      "display_name": "Python 3",
      "name": "python3"
    }
  },
  "nbformat": 4,
  "nbformat_minor": 0
}
